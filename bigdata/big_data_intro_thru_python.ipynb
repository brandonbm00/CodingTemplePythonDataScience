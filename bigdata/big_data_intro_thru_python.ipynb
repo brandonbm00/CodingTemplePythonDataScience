{
 "cells": [
  {
   "cell_type": "markdown",
   "metadata": {},
   "source": [
    "# Welcome to PySpark and Amazon Elastic Map-Reduce (EMR)"
   ]
  },
  {
   "cell_type": "code",
   "execution_count": 1,
   "metadata": {
    "collapsed": false
   },
   "outputs": [],
   "source": [
    "import numpy as np\n",
    "import pandas as pd\n",
    "import matplotlib.pyplot as plt\n",
    "\n",
    "# PySpark Specific Machinery\n",
    "import pyspark\n",
    "from pyspark import SparkConf\n",
    "from pyspark.sql import SparkSession\n",
    "\n",
    "import pyspark.sql.functions as F"
   ]
  },
  {
   "cell_type": "code",
   "execution_count": 2,
   "metadata": {
    "collapsed": false
   },
   "outputs": [
    {
     "name": "stdout",
     "output_type": "stream",
     "text": [
      "DEPRECATED: Use of this script to execute hdfs command is deprecated.\n",
      "Instead use the hdfs command for it.\n",
      "\n",
      "Configured Capacity: 148067303424 (137.90 GB)\n",
      "Present Capacity: 144840027358 (134.89 GB)\n",
      "DFS Remaining: 144785849687 (134.84 GB)\n",
      "DFS Used: 54177671 (51.67 MB)\n",
      "DFS Used%: 0.04%\n",
      "Under replicated blocks: 0\n",
      "Blocks with corrupt replicas: 0\n",
      "Missing blocks: 0\n",
      "Missing blocks (with replication factor 1): 0\n",
      "Pending deletion blocks: 0\n",
      "\n",
      "-------------------------------------------------\n",
      "Live datanodes (2):\n",
      "\n",
      "Name: 172.31.33.71:50010 (ip-172-31-33-71.ec2.internal)\n",
      "Hostname: ip-172-31-33-71.ec2.internal\n",
      "Decommission Status : Normal\n",
      "Configured Capacity: 74033651712 (68.95 GB)\n",
      "DFS Used: 252349 (246.43 KB)\n",
      "Non DFS Used: 1613656859 (1.50 GB)\n",
      "DFS Remaining: 72419742504 (67.45 GB)\n",
      "DFS Used%: 0.00%\n",
      "DFS Remaining%: 97.82%\n",
      "Configured Cache Capacity: 0 (0 B)\n",
      "Cache Used: 0 (0 B)\n",
      "Cache Remaining: 0 (0 B)\n",
      "Cache Used%: 100.00%\n",
      "Cache Remaining%: 0.00%\n",
      "Xceivers: 1\n",
      "Last contact: Thu Sep 20 03:43:11 UTC 2018\n",
      "\n",
      "\n",
      "Name: 172.31.38.15:50010 (ip-172-31-38-15.ec2.internal)\n",
      "Hostname: ip-172-31-38-15.ec2.internal\n",
      "Decommission Status : Normal\n",
      "Configured Capacity: 74033651712 (68.95 GB)\n",
      "DFS Used: 53925322 (51.43 MB)\n",
      "Non DFS Used: 1613619207 (1.50 GB)\n",
      "DFS Remaining: 72366107183 (67.40 GB)\n",
      "DFS Used%: 0.07%\n",
      "DFS Remaining%: 97.75%\n",
      "Configured Cache Capacity: 0 (0 B)\n",
      "Cache Used: 0 (0 B)\n",
      "Cache Remaining: 0 (0 B)\n",
      "Cache Used%: 100.00%\n",
      "Cache Remaining%: 0.00%\n",
      "Xceivers: 1\n",
      "Last contact: Thu Sep 20 03:43:13 UTC 2018\n",
      "\n",
      "\n"
     ]
    }
   ],
   "source": [
    "!hadoop dfsadmin -report"
   ]
  },
  {
   "cell_type": "markdown",
   "metadata": {},
   "source": [
    "*** "
   ]
  },
  {
   "cell_type": "markdown",
   "metadata": {},
   "source": [
    "Preliminaries"
   ]
  },
  {
   "cell_type": "markdown",
   "metadata": {},
   "source": [
    "*** "
   ]
  },
  {
   "cell_type": "markdown",
   "metadata": {},
   "source": [
    "The SparkSession object represents your entrypoint to the cluster. It is the single most important object in Spark and serves as the mechanism through which you will interact with the Hadoop resources provisioned for you. Every Spark \"job\" - i.e. an individual spark applicaton run by a user, will have a uniqe SparkContext that in some abstract sense 'contains' the resources allocated to that job at all times. For that reason each job only has one SparkContext - if you try and create a second one, you'll get an error (depending on cluster configuration parameters)."
   ]
  },
  {
   "cell_type": "code",
   "execution_count": 3,
   "metadata": {
    "collapsed": false
   },
   "outputs": [],
   "source": [
    "spark = SparkSession.builder\\\n",
    "    .master(\"yarn\")\\\n",
    "    .config(\"spark.driver.cores\", 1)\\\n",
    "    .appName(\"demo_spark\")\\\n",
    "    .getOrCreate()"
   ]
  },
  {
   "cell_type": "code",
   "execution_count": 4,
   "metadata": {
    "collapsed": false
   },
   "outputs": [
    {
     "data": {
      "text/html": [
       "\n",
       "            <div>\n",
       "                <p><b>SparkSession - in-memory</b></p>\n",
       "                \n",
       "        <div>\n",
       "            <p><b>SparkContext</b></p>\n",
       "\n",
       "            <p><a href=\"http://ip-172-31-33-47.ec2.internal:4040\">Spark UI</a></p>\n",
       "\n",
       "            <dl>\n",
       "              <dt>Version</dt>\n",
       "                <dd><code>v2.3.1</code></dd>\n",
       "              <dt>Master</dt>\n",
       "                <dd><code>yarn</code></dd>\n",
       "              <dt>AppName</dt>\n",
       "                <dd><code>demo_spark</code></dd>\n",
       "            </dl>\n",
       "        </div>\n",
       "        \n",
       "            </div>\n",
       "        "
      ],
      "text/plain": [
       "<pyspark.sql.session.SparkSession at 0x7ff4e284d470>"
      ]
     },
     "execution_count": 4,
     "metadata": {},
     "output_type": "execute_result"
    }
   ],
   "source": [
    "spark"
   ]
  },
  {
   "cell_type": "markdown",
   "metadata": {},
   "source": [
    "You can exit the SparkSession using the following switch, however if you need the resources back you might need to wait for your cluster availability to swing back in your favor (so be careful especially if you suspect your co-workers overuse cluster resources)"
   ]
  },
  {
   "cell_type": "code",
   "execution_count": 5,
   "metadata": {
    "collapsed": true
   },
   "outputs": [],
   "source": [
    "# spark.stop() # shuts down the sparkcontext - but not the notebook."
   ]
  },
  {
   "cell_type": "markdown",
   "metadata": {},
   "source": [
    "# The Resilient Distributed Dataset"
   ]
  },
  {
   "cell_type": "markdown",
   "metadata": {},
   "source": [
    "RDDs are the core object of study in Spark and form the backbone of the architecture that makes it work. An RDD can be thought of as a complex plan for creating a dataset in parallel - a dataset that will in the end, exist on disk in many pieces. Since it starts in many pieces, the RDD represents the set of partition level plans to build the dataset from scratch in parallel. When thought of in this way it makes sense that if something happens and a single node fails, Spark doesn't have to regenerate the entire dataset - it can just regenerate the specific partitions related to the node that failed. This is very in-pattern when considered as an application of the Hadoop infrastructure."
   ]
  },
  {
   "cell_type": "code",
   "execution_count": 6,
   "metadata": {
    "collapsed": false
   },
   "outputs": [
    {
     "data": {
      "image/png": "[encoded data removed]",
      "text/plain": [
       "<IPython.core.display.Image object>"
      ]
     },
     "execution_count": 6,
     "metadata": {},
     "output_type": "execute_result"
    }
   ],
   "source": [
    "from IPython.display import Image\n",
    "Image(filename='../rdd.png')"
   ]
  },
  {
   "cell_type": "markdown",
   "metadata": {},
   "source": [
    "Let's create a dataframe in Pandas and promote it to a Spark dataframe, which is a tabular data structure built on top of the RDD engine."
   ]
  },
  {
   "cell_type": "code",
   "execution_count": 7,
   "metadata": {
    "collapsed": false
   },
   "outputs": [],
   "source": [
    "df = pd.DataFrame.from_dict({\n",
    "        'A': [1,2,3],\n",
    "        'B': ['a','b','c']\n",
    "    })"
   ]
  },
  {
   "cell_type": "code",
   "execution_count": 8,
   "metadata": {
    "collapsed": false
   },
   "outputs": [
    {
     "data": {
      "text/html": [
       "<div>\n",
       "<style scoped>\n",
       "    .dataframe tbody tr th:only-of-type {\n",
       "        vertical-align: middle;\n",
       "    }\n",
       "\n",
       "    .dataframe tbody tr th {\n",
       "        vertical-align: top;\n",
       "    }\n",
       "\n",
       "    .dataframe thead th {\n",
       "        text-align: right;\n",
       "    }\n",
       "</style>\n",
       "<table border=\"1\" class=\"dataframe\">\n",
       "  <thead>\n",
       "    <tr style=\"text-align: right;\">\n",
       "      <th></th>\n",
       "      <th>A</th>\n",
       "      <th>B</th>\n",
       "    </tr>\n",
       "  </thead>\n",
       "  <tbody>\n",
       "    <tr>\n",
       "      <th>0</th>\n",
       "      <td>1</td>\n",
       "      <td>a</td>\n",
       "    </tr>\n",
       "    <tr>\n",
       "      <th>1</th>\n",
       "      <td>2</td>\n",
       "      <td>b</td>\n",
       "    </tr>\n",
       "    <tr>\n",
       "      <th>2</th>\n",
       "      <td>3</td>\n",
       "      <td>c</td>\n",
       "    </tr>\n",
       "  </tbody>\n",
       "</table>\n",
       "</div>"
      ],
      "text/plain": [
       "   A  B\n",
       "0  1  a\n",
       "1  2  b\n",
       "2  3  c"
      ]
     },
     "execution_count": 8,
     "metadata": {},
     "output_type": "execute_result"
    }
   ],
   "source": [
    "df.head()"
   ]
  },
  {
   "cell_type": "code",
   "execution_count": 9,
   "metadata": {
    "collapsed": false
   },
   "outputs": [],
   "source": [
    "sp_df = spark.createDataFrame(df)"
   ]
  },
  {
   "cell_type": "code",
   "execution_count": 10,
   "metadata": {
    "collapsed": false
   },
   "outputs": [
    {
     "name": "stdout",
     "output_type": "stream",
     "text": [
      "+---+---+\n",
      "|  A|  B|\n",
      "+---+---+\n",
      "|  1|  a|\n",
      "|  2|  b|\n",
      "|  3|  c|\n",
      "+---+---+\n",
      "\n"
     ]
    }
   ],
   "source": [
    "sp_df.show()"
   ]
  },
  {
   "cell_type": "markdown",
   "metadata": {},
   "source": [
    "# DAGs and Lazy Execution\n"
   ]
  },
  {
   "cell_type": "markdown",
   "metadata": {},
   "source": [
    "Lazy execution is a feature built into spark designed both to make development easier for you as well as minimize overuse of cluster resources. In one sentence, it means that Spark doesn't compute anything it doesn't absolutely have to. In Spark, you write the majority of the program in a manner that specifies a PLAN of WHAT youw WANT to happen - and then trigger the actual execution of the plan later. Let's see how this actually works in practice"
   ]
  },
  {
   "cell_type": "code",
   "execution_count": null,
   "metadata": {
    "collapsed": true
   },
   "outputs": [],
   "source": [
    "data = spark.read.parquet('data/subset_reviews_parquet/')"
   ]
  },
  {
   "cell_type": "code",
   "execution_count": null,
   "metadata": {
    "collapsed": false
   },
   "outputs": [],
   "source": [
    "data.explain()"
   ]
  },
  {
   "cell_type": "code",
   "execution_count": null,
   "metadata": {
    "collapsed": false
   },
   "outputs": [],
   "source": [
    "best_scores = data.where(F.col('Score') == '5')"
   ]
  },
  {
   "cell_type": "code",
   "execution_count": null,
   "metadata": {
    "collapsed": false
   },
   "outputs": [],
   "source": [
    "best_scores"
   ]
  },
  {
   "cell_type": "code",
   "execution_count": null,
   "metadata": {
    "collapsed": false
   },
   "outputs": [],
   "source": [
    "best_scores.explain()"
   ]
  },
  {
   "cell_type": "code",
   "execution_count": null,
   "metadata": {
    "collapsed": false
   },
   "outputs": [],
   "source": [
    "best_scores.select('Score', 'Text').show()"
   ]
  },
  {
   "cell_type": "markdown",
   "metadata": {},
   "source": [
    "Long story short, doing something to a datset via some code in this notebook doesn't actually do anything to materialize the real data until you force it too - you can think of successive dataframe manipulations as simply adding steps to the plan for what will later happen. This is advantageous for the programmer as well as the cluster - you don't want to have to compute the entire dataset every time you want to change something. You can make it pretty far without actually materializing anything however - generally when developing data science workflows you make many errors just trying to match up the right metadata anyways."
   ]
  },
  {
   "cell_type": "code",
   "execution_count": null,
   "metadata": {
    "collapsed": true
   },
   "outputs": [],
   "source": []
  },
  {
   "cell_type": "code",
   "execution_count": null,
   "metadata": {
    "collapsed": true
   },
   "outputs": [],
   "source": []
  },
  {
   "cell_type": "markdown",
   "metadata": {},
   "source": [
    "# Parallel I/O "
   ]
  },
  {
   "cell_type": "code",
   "execution_count": 55,
   "metadata": {
    "collapsed": false
   },
   "outputs": [],
   "source": [
    "data.repartition(100, 'Id').write.mode('overwrite').parquet('data/reviews_repartitioned/')"
   ]
  },
  {
   "cell_type": "code",
   "execution_count": 56,
   "metadata": {
    "collapsed": false
   },
   "outputs": [
    {
     "name": "stdout",
     "output_type": "stream",
     "text": [
      "Found 101 items\n",
      "-rw-r--r--   1 hadoop hadoop          0 2018-09-17 21:38 data/reviews_repartitioned/_SUCCESS\n",
      "-rw-r--r--   1 hadoop hadoop     305378 2018-09-17 21:38 data/reviews_repartitioned/part-00000-f9174d7b-2d4f-4cc9-a239-be6570962f26-c000.snappy.parquet\n",
      "-rw-r--r--   1 hadoop hadoop     303826 2018-09-17 21:38 data/reviews_repartitioned/part-00001-f9174d7b-2d4f-4cc9-a239-be6570962f26-c000.snappy.parquet\n",
      "-rw-r--r--   1 hadoop hadoop     309668 2018-09-17 21:38 data/reviews_repartitioned/part-00002-f9174d7b-2d4f-4cc9-a239-be6570962f26-c000.snappy.parquet\n",
      "-rw-r--r--   1 hadoop hadoop     301403 2018-09-17 21:38 data/reviews_repartitioned/part-00003-f9174d7b-2d4f-4cc9-a239-be6570962f26-c000.snappy.parquet\n",
      "-rw-r--r--   1 hadoop hadoop     323638 2018-09-17 21:38 data/reviews_repartitioned/part-00004-f9174d7b-2d4f-4cc9-a239-be6570962f26-c000.snappy.parquet\n",
      "-rw-r--r--   1 hadoop hadoop     314255 2018-09-17 21:38 data/reviews_repartitioned/part-00005-f9174d7b-2d4f-4cc9-a239-be6570962f26-c000.snappy.parquet\n",
      "-rw-r--r--   1 hadoop hadoop     325293 2018-09-17 21:38 data/reviews_repartitioned/part-00006-f9174d7b-2d4f-4cc9-a239-be6570962f26-c000.snappy.parquet\n",
      "-rw-r--r--   1 hadoop hadoop     314600 2018-09-17 21:38 data/reviews_repartitioned/part-00007-f9174d7b-2d4f-4cc9-a239-be6570962f26-c000.snappy.parquet\n",
      "-rw-r--r--   1 hadoop hadoop     317304 2018-09-17 21:38 data/reviews_repartitioned/part-00008-f9174d7b-2d4f-4cc9-a239-be6570962f26-c000.snappy.parquet\n",
      "-rw-r--r--   1 hadoop hadoop     293649 2018-09-17 21:38 data/reviews_repartitioned/part-00009-f9174d7b-2d4f-4cc9-a239-be6570962f26-c000.snappy.parquet\n",
      "-rw-r--r--   1 hadoop hadoop     313338 2018-09-17 21:38 data/reviews_repartitioned/part-00010-f9174d7b-2d4f-4cc9-a239-be6570962f26-c000.snappy.parquet\n",
      "-rw-r--r--   1 hadoop hadoop     304743 2018-09-17 21:38 data/reviews_repartitioned/part-00011-f9174d7b-2d4f-4cc9-a239-be6570962f26-c000.snappy.parquet\n",
      "-rw-r--r--   1 hadoop hadoop     319259 2018-09-17 21:38 data/reviews_repartitioned/part-00012-f9174d7b-2d4f-4cc9-a239-be6570962f26-c000.snappy.parquet\n",
      "-rw-r--r--   1 hadoop hadoop     315790 2018-09-17 21:38 data/reviews_repartitioned/part-00013-f9174d7b-2d4f-4cc9-a239-be6570962f26-c000.snappy.parquet\n",
      "-rw-r--r--   1 hadoop hadoop     318916 2018-09-17 21:38 data/reviews_repartitioned/part-00014-f9174d7b-2d4f-4cc9-a239-be6570962f26-c000.snappy.parquet\n",
      "-rw-r--r--   1 hadoop hadoop     315970 2018-09-17 21:38 data/reviews_repartitioned/part-00015-f9174d7b-2d4f-4cc9-a239-be6570962f26-c000.snappy.parquet\n",
      "-rw-r--r--   1 hadoop hadoop     344296 2018-09-17 21:38 data/reviews_repartitioned/part-00016-f9174d7b-2d4f-4cc9-a239-be6570962f26-c000.snappy.parquet\n",
      "-rw-r--r--   1 hadoop hadoop     324995 2018-09-17 21:38 data/reviews_repartitioned/part-00017-f9174d7b-2d4f-4cc9-a239-be6570962f26-c000.snappy.parquet\n",
      "-rw-r--r--   1 hadoop hadoop     332125 2018-09-17 21:38 data/reviews_repartitioned/part-00018-f9174d7b-2d4f-4cc9-a239-be6570962f26-c000.snappy.parquet\n",
      "-rw-r--r--   1 hadoop hadoop     326048 2018-09-17 21:38 data/reviews_repartitioned/part-00019-f9174d7b-2d4f-4cc9-a239-be6570962f26-c000.snappy.parquet\n",
      "-rw-r--r--   1 hadoop hadoop     313820 2018-09-17 21:38 data/reviews_repartitioned/part-00020-f9174d7b-2d4f-4cc9-a239-be6570962f26-c000.snappy.parquet\n",
      "-rw-r--r--   1 hadoop hadoop     313382 2018-09-17 21:38 data/reviews_repartitioned/part-00021-f9174d7b-2d4f-4cc9-a239-be6570962f26-c000.snappy.parquet\n",
      "-rw-r--r--   1 hadoop hadoop     299504 2018-09-17 21:38 data/reviews_repartitioned/part-00022-f9174d7b-2d4f-4cc9-a239-be6570962f26-c000.snappy.parquet\n",
      "-rw-r--r--   1 hadoop hadoop     317959 2018-09-17 21:38 data/reviews_repartitioned/part-00023-f9174d7b-2d4f-4cc9-a239-be6570962f26-c000.snappy.parquet\n",
      "-rw-r--r--   1 hadoop hadoop     318915 2018-09-17 21:38 data/reviews_repartitioned/part-00024-f9174d7b-2d4f-4cc9-a239-be6570962f26-c000.snappy.parquet\n",
      "-rw-r--r--   1 hadoop hadoop     324049 2018-09-17 21:38 data/reviews_repartitioned/part-00025-f9174d7b-2d4f-4cc9-a239-be6570962f26-c000.snappy.parquet\n",
      "-rw-r--r--   1 hadoop hadoop     300828 2018-09-17 21:38 data/reviews_repartitioned/part-00026-f9174d7b-2d4f-4cc9-a239-be6570962f26-c000.snappy.parquet\n",
      "-rw-r--r--   1 hadoop hadoop     309864 2018-09-17 21:38 data/reviews_repartitioned/part-00027-f9174d7b-2d4f-4cc9-a239-be6570962f26-c000.snappy.parquet\n",
      "-rw-r--r--   1 hadoop hadoop     304803 2018-09-17 21:38 data/reviews_repartitioned/part-00028-f9174d7b-2d4f-4cc9-a239-be6570962f26-c000.snappy.parquet\n",
      "-rw-r--r--   1 hadoop hadoop     315936 2018-09-17 21:38 data/reviews_repartitioned/part-00029-f9174d7b-2d4f-4cc9-a239-be6570962f26-c000.snappy.parquet\n",
      "-rw-r--r--   1 hadoop hadoop     305169 2018-09-17 21:38 data/reviews_repartitioned/part-00030-f9174d7b-2d4f-4cc9-a239-be6570962f26-c000.snappy.parquet\n",
      "-rw-r--r--   1 hadoop hadoop     318229 2018-09-17 21:38 data/reviews_repartitioned/part-00031-f9174d7b-2d4f-4cc9-a239-be6570962f26-c000.snappy.parquet\n",
      "-rw-r--r--   1 hadoop hadoop     316209 2018-09-17 21:38 data/reviews_repartitioned/part-00032-f9174d7b-2d4f-4cc9-a239-be6570962f26-c000.snappy.parquet\n",
      "-rw-r--r--   1 hadoop hadoop     326905 2018-09-17 21:38 data/reviews_repartitioned/part-00033-f9174d7b-2d4f-4cc9-a239-be6570962f26-c000.snappy.parquet\n",
      "-rw-r--r--   1 hadoop hadoop     312699 2018-09-17 21:38 data/reviews_repartitioned/part-00034-f9174d7b-2d4f-4cc9-a239-be6570962f26-c000.snappy.parquet\n",
      "-rw-r--r--   1 hadoop hadoop     324655 2018-09-17 21:38 data/reviews_repartitioned/part-00035-f9174d7b-2d4f-4cc9-a239-be6570962f26-c000.snappy.parquet\n",
      "-rw-r--r--   1 hadoop hadoop     326220 2018-09-17 21:38 data/reviews_repartitioned/part-00036-f9174d7b-2d4f-4cc9-a239-be6570962f26-c000.snappy.parquet\n",
      "-rw-r--r--   1 hadoop hadoop     328608 2018-09-17 21:38 data/reviews_repartitioned/part-00037-f9174d7b-2d4f-4cc9-a239-be6570962f26-c000.snappy.parquet\n",
      "-rw-r--r--   1 hadoop hadoop     330767 2018-09-17 21:38 data/reviews_repartitioned/part-00038-f9174d7b-2d4f-4cc9-a239-be6570962f26-c000.snappy.parquet\n",
      "-rw-r--r--   1 hadoop hadoop     319460 2018-09-17 21:38 data/reviews_repartitioned/part-00039-f9174d7b-2d4f-4cc9-a239-be6570962f26-c000.snappy.parquet\n",
      "-rw-r--r--   1 hadoop hadoop     311471 2018-09-17 21:38 data/reviews_repartitioned/part-00040-f9174d7b-2d4f-4cc9-a239-be6570962f26-c000.snappy.parquet\n",
      "-rw-r--r--   1 hadoop hadoop     319880 2018-09-17 21:38 data/reviews_repartitioned/part-00041-f9174d7b-2d4f-4cc9-a239-be6570962f26-c000.snappy.parquet\n",
      "-rw-r--r--   1 hadoop hadoop     292594 2018-09-17 21:38 data/reviews_repartitioned/part-00042-f9174d7b-2d4f-4cc9-a239-be6570962f26-c000.snappy.parquet\n",
      "-rw-r--r--   1 hadoop hadoop     326611 2018-09-17 21:38 data/reviews_repartitioned/part-00043-f9174d7b-2d4f-4cc9-a239-be6570962f26-c000.snappy.parquet\n",
      "-rw-r--r--   1 hadoop hadoop     311397 2018-09-17 21:38 data/reviews_repartitioned/part-00044-f9174d7b-2d4f-4cc9-a239-be6570962f26-c000.snappy.parquet\n",
      "-rw-r--r--   1 hadoop hadoop     332885 2018-09-17 21:38 data/reviews_repartitioned/part-00045-f9174d7b-2d4f-4cc9-a239-be6570962f26-c000.snappy.parquet\n",
      "-rw-r--r--   1 hadoop hadoop     296043 2018-09-17 21:38 data/reviews_repartitioned/part-00046-f9174d7b-2d4f-4cc9-a239-be6570962f26-c000.snappy.parquet\n",
      "-rw-r--r--   1 hadoop hadoop     326795 2018-09-17 21:38 data/reviews_repartitioned/part-00047-f9174d7b-2d4f-4cc9-a239-be6570962f26-c000.snappy.parquet\n",
      "-rw-r--r--   1 hadoop hadoop     310486 2018-09-17 21:38 data/reviews_repartitioned/part-00048-f9174d7b-2d4f-4cc9-a239-be6570962f26-c000.snappy.parquet\n",
      "-rw-r--r--   1 hadoop hadoop     327064 2018-09-17 21:38 data/reviews_repartitioned/part-00049-f9174d7b-2d4f-4cc9-a239-be6570962f26-c000.snappy.parquet\n",
      "-rw-r--r--   1 hadoop hadoop     314347 2018-09-17 21:38 data/reviews_repartitioned/part-00050-f9174d7b-2d4f-4cc9-a239-be6570962f26-c000.snappy.parquet\n",
      "-rw-r--r--   1 hadoop hadoop     317676 2018-09-17 21:38 data/reviews_repartitioned/part-00051-f9174d7b-2d4f-4cc9-a239-be6570962f26-c000.snappy.parquet\n",
      "-rw-r--r--   1 hadoop hadoop     304117 2018-09-17 21:38 data/reviews_repartitioned/part-00052-f9174d7b-2d4f-4cc9-a239-be6570962f26-c000.snappy.parquet\n",
      "-rw-r--r--   1 hadoop hadoop     308470 2018-09-17 21:38 data/reviews_repartitioned/part-00053-f9174d7b-2d4f-4cc9-a239-be6570962f26-c000.snappy.parquet\n",
      "-rw-r--r--   1 hadoop hadoop     316765 2018-09-17 21:38 data/reviews_repartitioned/part-00054-f9174d7b-2d4f-4cc9-a239-be6570962f26-c000.snappy.parquet\n",
      "-rw-r--r--   1 hadoop hadoop     305655 2018-09-17 21:38 data/reviews_repartitioned/part-00055-f9174d7b-2d4f-4cc9-a239-be6570962f26-c000.snappy.parquet\n",
      "-rw-r--r--   1 hadoop hadoop     315343 2018-09-17 21:38 data/reviews_repartitioned/part-00056-f9174d7b-2d4f-4cc9-a239-be6570962f26-c000.snappy.parquet\n",
      "-rw-r--r--   1 hadoop hadoop     313633 2018-09-17 21:38 data/reviews_repartitioned/part-00057-f9174d7b-2d4f-4cc9-a239-be6570962f26-c000.snappy.parquet\n",
      "-rw-r--r--   1 hadoop hadoop     308441 2018-09-17 21:38 data/reviews_repartitioned/part-00058-f9174d7b-2d4f-4cc9-a239-be6570962f26-c000.snappy.parquet\n",
      "-rw-r--r--   1 hadoop hadoop     303793 2018-09-17 21:38 data/reviews_repartitioned/part-00059-f9174d7b-2d4f-4cc9-a239-be6570962f26-c000.snappy.parquet\n",
      "-rw-r--r--   1 hadoop hadoop     324998 2018-09-17 21:38 data/reviews_repartitioned/part-00060-f9174d7b-2d4f-4cc9-a239-be6570962f26-c000.snappy.parquet\n",
      "-rw-r--r--   1 hadoop hadoop     298664 2018-09-17 21:38 data/reviews_repartitioned/part-00061-f9174d7b-2d4f-4cc9-a239-be6570962f26-c000.snappy.parquet\n",
      "-rw-r--r--   1 hadoop hadoop     310678 2018-09-17 21:38 data/reviews_repartitioned/part-00062-f9174d7b-2d4f-4cc9-a239-be6570962f26-c000.snappy.parquet\n",
      "-rw-r--r--   1 hadoop hadoop     314687 2018-09-17 21:38 data/reviews_repartitioned/part-00063-f9174d7b-2d4f-4cc9-a239-be6570962f26-c000.snappy.parquet\n",
      "-rw-r--r--   1 hadoop hadoop     318139 2018-09-17 21:38 data/reviews_repartitioned/part-00064-f9174d7b-2d4f-4cc9-a239-be6570962f26-c000.snappy.parquet\n",
      "-rw-r--r--   1 hadoop hadoop     317868 2018-09-17 21:38 data/reviews_repartitioned/part-00065-f9174d7b-2d4f-4cc9-a239-be6570962f26-c000.snappy.parquet\n",
      "-rw-r--r--   1 hadoop hadoop     317055 2018-09-17 21:38 data/reviews_repartitioned/part-00066-f9174d7b-2d4f-4cc9-a239-be6570962f26-c000.snappy.parquet\n",
      "-rw-r--r--   1 hadoop hadoop     318845 2018-09-17 21:38 data/reviews_repartitioned/part-00067-f9174d7b-2d4f-4cc9-a239-be6570962f26-c000.snappy.parquet\n",
      "-rw-r--r--   1 hadoop hadoop     330520 2018-09-17 21:38 data/reviews_repartitioned/part-00068-f9174d7b-2d4f-4cc9-a239-be6570962f26-c000.snappy.parquet\n",
      "-rw-r--r--   1 hadoop hadoop     305515 2018-09-17 21:38 data/reviews_repartitioned/part-00069-f9174d7b-2d4f-4cc9-a239-be6570962f26-c000.snappy.parquet\n",
      "-rw-r--r--   1 hadoop hadoop     304181 2018-09-17 21:38 data/reviews_repartitioned/part-00070-f9174d7b-2d4f-4cc9-a239-be6570962f26-c000.snappy.parquet\n",
      "-rw-r--r--   1 hadoop hadoop     335976 2018-09-17 21:38 data/reviews_repartitioned/part-00071-f9174d7b-2d4f-4cc9-a239-be6570962f26-c000.snappy.parquet\n",
      "-rw-r--r--   1 hadoop hadoop     311038 2018-09-17 21:38 data/reviews_repartitioned/part-00072-f9174d7b-2d4f-4cc9-a239-be6570962f26-c000.snappy.parquet\n",
      "-rw-r--r--   1 hadoop hadoop     313871 2018-09-17 21:38 data/reviews_repartitioned/part-00073-f9174d7b-2d4f-4cc9-a239-be6570962f26-c000.snappy.parquet\n",
      "-rw-r--r--   1 hadoop hadoop     298003 2018-09-17 21:38 data/reviews_repartitioned/part-00074-f9174d7b-2d4f-4cc9-a239-be6570962f26-c000.snappy.parquet\n",
      "-rw-r--r--   1 hadoop hadoop     325996 2018-09-17 21:38 data/reviews_repartitioned/part-00075-f9174d7b-2d4f-4cc9-a239-be6570962f26-c000.snappy.parquet\n",
      "-rw-r--r--   1 hadoop hadoop     313581 2018-09-17 21:38 data/reviews_repartitioned/part-00076-f9174d7b-2d4f-4cc9-a239-be6570962f26-c000.snappy.parquet\n",
      "-rw-r--r--   1 hadoop hadoop     309400 2018-09-17 21:38 data/reviews_repartitioned/part-00077-f9174d7b-2d4f-4cc9-a239-be6570962f26-c000.snappy.parquet\n",
      "-rw-r--r--   1 hadoop hadoop     304939 2018-09-17 21:38 data/reviews_repartitioned/part-00078-f9174d7b-2d4f-4cc9-a239-be6570962f26-c000.snappy.parquet\n",
      "-rw-r--r--   1 hadoop hadoop     316546 2018-09-17 21:38 data/reviews_repartitioned/part-00079-f9174d7b-2d4f-4cc9-a239-be6570962f26-c000.snappy.parquet\n",
      "-rw-r--r--   1 hadoop hadoop     309399 2018-09-17 21:38 data/reviews_repartitioned/part-00080-f9174d7b-2d4f-4cc9-a239-be6570962f26-c000.snappy.parquet\n",
      "-rw-r--r--   1 hadoop hadoop     307592 2018-09-17 21:38 data/reviews_repartitioned/part-00081-f9174d7b-2d4f-4cc9-a239-be6570962f26-c000.snappy.parquet\n",
      "-rw-r--r--   1 hadoop hadoop     323758 2018-09-17 21:38 data/reviews_repartitioned/part-00082-f9174d7b-2d4f-4cc9-a239-be6570962f26-c000.snappy.parquet\n",
      "-rw-r--r--   1 hadoop hadoop     316369 2018-09-17 21:38 data/reviews_repartitioned/part-00083-f9174d7b-2d4f-4cc9-a239-be6570962f26-c000.snappy.parquet\n",
      "-rw-r--r--   1 hadoop hadoop     316032 2018-09-17 21:38 data/reviews_repartitioned/part-00084-f9174d7b-2d4f-4cc9-a239-be6570962f26-c000.snappy.parquet\n",
      "-rw-r--r--   1 hadoop hadoop     307694 2018-09-17 21:38 data/reviews_repartitioned/part-00085-f9174d7b-2d4f-4cc9-a239-be6570962f26-c000.snappy.parquet\n",
      "-rw-r--r--   1 hadoop hadoop     319616 2018-09-17 21:38 data/reviews_repartitioned/part-00086-f9174d7b-2d4f-4cc9-a239-be6570962f26-c000.snappy.parquet\n",
      "-rw-r--r--   1 hadoop hadoop     320559 2018-09-17 21:38 data/reviews_repartitioned/part-00087-f9174d7b-2d4f-4cc9-a239-be6570962f26-c000.snappy.parquet\n",
      "-rw-r--r--   1 hadoop hadoop     300324 2018-09-17 21:38 data/reviews_repartitioned/part-00088-f9174d7b-2d4f-4cc9-a239-be6570962f26-c000.snappy.parquet\n",
      "-rw-r--r--   1 hadoop hadoop     297129 2018-09-17 21:38 data/reviews_repartitioned/part-00089-f9174d7b-2d4f-4cc9-a239-be6570962f26-c000.snappy.parquet\n",
      "-rw-r--r--   1 hadoop hadoop     324423 2018-09-17 21:38 data/reviews_repartitioned/part-00090-f9174d7b-2d4f-4cc9-a239-be6570962f26-c000.snappy.parquet\n",
      "-rw-r--r--   1 hadoop hadoop     314834 2018-09-17 21:38 data/reviews_repartitioned/part-00091-f9174d7b-2d4f-4cc9-a239-be6570962f26-c000.snappy.parquet\n",
      "-rw-r--r--   1 hadoop hadoop     319678 2018-09-17 21:38 data/reviews_repartitioned/part-00092-f9174d7b-2d4f-4cc9-a239-be6570962f26-c000.snappy.parquet\n",
      "-rw-r--r--   1 hadoop hadoop     312799 2018-09-17 21:38 data/reviews_repartitioned/part-00093-f9174d7b-2d4f-4cc9-a239-be6570962f26-c000.snappy.parquet\n",
      "-rw-r--r--   1 hadoop hadoop     319883 2018-09-17 21:38 data/reviews_repartitioned/part-00094-f9174d7b-2d4f-4cc9-a239-be6570962f26-c000.snappy.parquet\n",
      "-rw-r--r--   1 hadoop hadoop     312709 2018-09-17 21:38 data/reviews_repartitioned/part-00095-f9174d7b-2d4f-4cc9-a239-be6570962f26-c000.snappy.parquet\n",
      "-rw-r--r--   1 hadoop hadoop     310193 2018-09-17 21:38 data/reviews_repartitioned/part-00096-f9174d7b-2d4f-4cc9-a239-be6570962f26-c000.snappy.parquet\n",
      "-rw-r--r--   1 hadoop hadoop     298945 2018-09-17 21:38 data/reviews_repartitioned/part-00097-f9174d7b-2d4f-4cc9-a239-be6570962f26-c000.snappy.parquet\n",
      "-rw-r--r--   1 hadoop hadoop     324094 2018-09-17 21:38 data/reviews_repartitioned/part-00098-f9174d7b-2d4f-4cc9-a239-be6570962f26-c000.snappy.parquet\n",
      "-rw-r--r--   1 hadoop hadoop     313066 2018-09-17 21:38 data/reviews_repartitioned/part-00099-f9174d7b-2d4f-4cc9-a239-be6570962f26-c000.snappy.parquet\n"
     ]
    }
   ],
   "source": [
    "!hadoop fs -ls data/reviews_repartitioned/ "
   ]
  },
  {
   "cell_type": "code",
   "execution_count": 57,
   "metadata": {
    "collapsed": false
   },
   "outputs": [
    {
     "name": "stdout",
     "output_type": "stream",
     "text": [
      "102\r\n"
     ]
    }
   ],
   "source": [
    "!hadoop fs -ls data/reviews_repartitioned/ | wc -l"
   ]
  },
  {
   "cell_type": "code",
   "execution_count": null,
   "metadata": {
    "collapsed": true
   },
   "outputs": [],
   "source": []
  },
  {
   "cell_type": "code",
   "execution_count": null,
   "metadata": {
    "collapsed": false
   },
   "outputs": [],
   "source": [
    "data = spark.read.csv('data/Subset_reviews.csv', header='true')"
   ]
  },
  {
   "cell_type": "code",
   "execution_count": null,
   "metadata": {
    "collapsed": false
   },
   "outputs": [],
   "source": [
    "data.show()"
   ]
  },
  {
   "cell_type": "code",
   "execution_count": null,
   "metadata": {
    "collapsed": false
   },
   "outputs": [],
   "source": [
    "data.printSchema()"
   ]
  },
  {
   "cell_type": "code",
   "execution_count": 13,
   "metadata": {
    "collapsed": true
   },
   "outputs": [],
   "source": [
    "data.write.parquet('data/subset_reviews_parquet/')"
   ]
  },
  {
   "cell_type": "code",
   "execution_count": 15,
   "metadata": {
    "collapsed": false
   },
   "outputs": [
    {
     "name": "stdout",
     "output_type": "stream",
     "text": [
      "+--------------+-----+\n",
      "|         Score|count|\n",
      "+--------------+-----+\n",
      "|       Hugs\"\"\"|    1|\n",
      "|             7|    7|\n",
      "|     friend\"\"\"|    1|\n",
      "|            11|    1|\n",
      "|             3| 8019|\n",
      "|             8|    1|\n",
      "| and Kitten\"\"\"|   26|\n",
      "|        Dad\"\"\"|    1|\n",
      "|            16|    1|\n",
      "|             0|  206|\n",
      "|            47|    5|\n",
      "|   Comp sci\"\"\"|    1|\n",
      "|          null|    2|\n",
      "|             5|62148|\n",
      "|            18|    1|\n",
      "|       blo...\"|    1|\n",
      "|     Medit...\"|    1|\n",
      "|            17|    1|\n",
      "|     Lyme ...\"|    1|\n",
      "|          ...\"|    7|\n",
      "+--------------+-----+\n",
      "only showing top 20 rows\n",
      "\n"
     ]
    }
   ],
   "source": [
    "data.groupBy('Score').count().show()"
   ]
  },
  {
   "cell_type": "code",
   "execution_count": 22,
   "metadata": {
    "collapsed": true
   },
   "outputs": [],
   "source": [
    "data = spark.read.parquet('data/subset_reviews_parquet')"
   ]
  },
  {
   "cell_type": "code",
   "execution_count": 18,
   "metadata": {
    "collapsed": false
   },
   "outputs": [
    {
     "name": "stdout",
     "output_type": "stream",
     "text": [
      "root\n",
      " |-- Id: string (nullable = true)\n",
      " |-- ProductId: string (nullable = true)\n",
      " |-- UserId: string (nullable = true)\n",
      " |-- ProfileName: string (nullable = true)\n",
      " |-- HelpfulnessNumerator: string (nullable = true)\n",
      " |-- HelpfulnessDenominator: string (nullable = true)\n",
      " |-- Score: string (nullable = true)\n",
      " |-- Time: string (nullable = true)\n",
      " |-- Summary: string (nullable = true)\n",
      " |-- Text: string (nullable = true)\n",
      "\n"
     ]
    }
   ],
   "source": [
    "data.printSchema()"
   ]
  },
  {
   "cell_type": "code",
   "execution_count": 19,
   "metadata": {
    "collapsed": false
   },
   "outputs": [
    {
     "name": "stdout",
     "output_type": "stream",
     "text": [
      "== Physical Plan ==\n",
      "*(1) FileScan parquet [Id#143,ProductId#144,UserId#145,ProfileName#146,HelpfulnessNumerator#147,HelpfulnessDenominator#148,Score#149,Time#150,Summary#151,Text#152] Batched: true, Format: Parquet, Location: InMemoryFileIndex[hdfs://ip-172-31-32-61.ec2.internal:8020/user/hadoop/data/subset_reviews_parquet], PartitionFilters: [], PushedFilters: [], ReadSchema: struct<Id:string,ProductId:string,UserId:string,ProfileName:string,HelpfulnessNumerator:string,He...\n"
     ]
    }
   ],
   "source": [
    "data.explain()"
   ]
  },
  {
   "cell_type": "code",
   "execution_count": 24,
   "metadata": {
    "collapsed": false
   },
   "outputs": [
    {
     "name": "stdout",
     "output_type": "stream",
     "text": [
      "+------------------+-----+\n",
      "|             Score|count|\n",
      "+------------------+-----+\n",
      "|                 5|62148|\n",
      "|                 4|14537|\n",
      "|                 1| 9392|\n",
      "|                 3| 8019|\n",
      "|                 2| 5582|\n",
      "|                 0|  206|\n",
      "|     and Kitten\"\"\"|   26|\n",
      "|   book-blogger\"\"\"|   13|\n",
      "|                 6|    9|\n",
      "|                 7|    7|\n",
      "|              ...\"|    7|\n",
      "|             RN\"\"\"|    6|\n",
      "|                47|    5|\n",
      "|                10|    5|\n",
      "|     Music Fan...\"|    3|\n",
      "|                14|    3|\n",
      "| and book lover\"\"\"|    3|\n",
      "|        swimme...\"|    2|\n",
      "|             a...\"|    2|\n",
      "|                33|    2|\n",
      "+------------------+-----+\n",
      "only showing top 20 rows\n",
      "\n"
     ]
    }
   ],
   "source": [
    "data.groupBy('Score').count().sort(F.col('count').desc()).show()"
   ]
  },
  {
   "cell_type": "code",
   "execution_count": 22,
   "metadata": {
    "collapsed": true
   },
   "outputs": [],
   "source": [
    "import pyspark.sql.functions as F"
   ]
  },
  {
   "cell_type": "code",
   "execution_count": 11,
   "metadata": {
    "collapsed": false
   },
   "outputs": [
    {
     "name": "stdout",
     "output_type": "stream",
     "text": [
      "{'names': ['Alice', 'Bob', 'James', 'Beth', 'John', 'Sally', 'Richard', 'Lauren', 'Brandon', 'Sabrina'], 'ages': array([33, 32, 33, 21, 23, 31, 22, 19, 34, 24])}\n"
     ]
    }
   ],
   "source": [
    "names = ['Alice',\n",
    "         'Bob',\n",
    "         'James',\n",
    "         'Beth', \n",
    "         'John', \n",
    "         'Sally',\n",
    "         'Richard', \n",
    "         'Lauren',\n",
    "         'Brandon', \n",
    "         'Sabrina']\n",
    "\n",
    "ages = np.random.randint(18,35, len(names))# Some random ages between 18 and 35\n",
    "my_dict = {'names':names, 'ages':ages}\n",
    "print(my_dict)"
   ]
  },
  {
   "cell_type": "code",
   "execution_count": 12,
   "metadata": {
    "collapsed": true
   },
   "outputs": [],
   "source": [
    "df = pd.DataFrame.from_dict(my_dict)\n"
   ]
  },
  {
   "cell_type": "code",
   "execution_count": 13,
   "metadata": {
    "collapsed": true
   },
   "outputs": [],
   "source": [
    "sp_df = spark.createDataFrame(df)"
   ]
  },
  {
   "cell_type": "code",
   "execution_count": 15,
   "metadata": {
    "collapsed": false
   },
   "outputs": [
    {
     "name": "stdout",
     "output_type": "stream",
     "text": [
      "+----+-------+\n",
      "|ages|  names|\n",
      "+----+-------+\n",
      "|  33|  Alice|\n",
      "|  32|    Bob|\n",
      "|  31|  Sally|\n",
      "|  22|Richard|\n",
      "|  19| Lauren|\n",
      "|  34|Brandon|\n",
      "|  24|Sabrina|\n",
      "|  33|  James|\n",
      "|  21|   Beth|\n",
      "|  23|   John|\n",
      "+----+-------+\n",
      "\n"
     ]
    }
   ],
   "source": [
    "sp_df.limit(10).show()"
   ]
  },
  {
   "cell_type": "code",
   "execution_count": 17,
   "metadata": {
    "collapsed": false
   },
   "outputs": [
    {
     "name": "stdout",
     "output_type": "stream",
     "text": [
      "+----+-------+\n",
      "|ages|  names|\n",
      "+----+-------+\n",
      "|  33|  Alice|\n",
      "|  21|   Beth|\n",
      "|  32|    Bob|\n",
      "|  34|Brandon|\n",
      "|  33|  James|\n",
      "|  23|   John|\n",
      "|  19| Lauren|\n",
      "|  22|Richard|\n",
      "|  24|Sabrina|\n",
      "|  31|  Sally|\n",
      "+----+-------+\n",
      "\n"
     ]
    }
   ],
   "source": [
    "sp_df.sort('names').show()"
   ]
  },
  {
   "cell_type": "code",
   "execution_count": 22,
   "metadata": {
    "collapsed": false
   },
   "outputs": [
    {
     "ename": "Py4JJavaError",
     "evalue": "An error occurred while calling o171.notEqual.\n: java.lang.RuntimeException: Unsupported literal type class java.util.ArrayList [10, 2]\n\tat org.apache.spark.sql.catalyst.expressions.Literal$.apply(literals.scala:77)\n\tat org.apache.spark.sql.catalyst.expressions.Literal$$anonfun$create$2.apply(literals.scala:163)\n\tat org.apache.spark.sql.catalyst.expressions.Literal$$anonfun$create$2.apply(literals.scala:163)\n\tat scala.util.Try.getOrElse(Try.scala:79)\n\tat org.apache.spark.sql.catalyst.expressions.Literal$.create(literals.scala:162)\n\tat org.apache.spark.sql.functions$.typedLit(functions.scala:113)\n\tat org.apache.spark.sql.functions$.lit(functions.scala:96)\n\tat org.apache.spark.sql.Column.notEqual(Column.scala:337)\n\tat sun.reflect.NativeMethodAccessorImpl.invoke0(Native Method)\n\tat sun.reflect.NativeMethodAccessorImpl.invoke(NativeMethodAccessorImpl.java:62)\n\tat sun.reflect.DelegatingMethodAccessorImpl.invoke(DelegatingMethodAccessorImpl.java:43)\n\tat java.lang.reflect.Method.invoke(Method.java:498)\n\tat py4j.reflection.MethodInvoker.invoke(MethodInvoker.java:244)\n\tat py4j.reflection.ReflectionEngine.invoke(ReflectionEngine.java:357)\n\tat py4j.Gateway.invoke(Gateway.java:282)\n\tat py4j.commands.AbstractCommand.invokeMethod(AbstractCommand.java:132)\n\tat py4j.commands.CallCommand.execute(CallCommand.java:79)\n\tat py4j.GatewayConnection.run(GatewayConnection.java:238)\n\tat java.lang.Thread.run(Thread.java:748)\n",
     "output_type": "error",
     "traceback": [
      "\u001b[0;31m---------------------------------------------------------------------------\u001b[0m",
      "\u001b[0;31mPy4JJavaError\u001b[0m                             Traceback (most recent call last)",
      "\u001b[0;32m<ipython-input-22-9da75c7db06b>\u001b[0m in \u001b[0;36m<module>\u001b[0;34m()\u001b[0m\n\u001b[0;32m----> 1\u001b[0;31m \u001b[0mdf\u001b[0m\u001b[0;34m.\u001b[0m\u001b[0mwhere\u001b[0m\u001b[0;34m(\u001b[0m\u001b[0mF\u001b[0m\u001b[0;34m.\u001b[0m\u001b[0mcol\u001b[0m\u001b[0;34m(\u001b[0m\u001b[0;34m'ages'\u001b[0m\u001b[0;34m)\u001b[0m\u001b[0;34m.\u001b[0m\u001b[0mcast\u001b[0m\u001b[0;34m(\u001b[0m\u001b[0mIntegerType\u001b[0m\u001b[0;34m(\u001b[0m\u001b[0;34m)\u001b[0m\u001b[0;34m)\u001b[0m \u001b[0;34m>\u001b[0m \u001b[0;36m19\u001b[0m\u001b[0;34m)\u001b[0m\u001b[0;34m.\u001b[0m\u001b[0mshow\u001b[0m\u001b[0;34m(\u001b[0m\u001b[0;34m)\u001b[0m\u001b[0;34m\u001b[0m\u001b[0m\n\u001b[0m",
      "\u001b[0;32m/home/hadoop/anaconda/lib/python3.5/site-packages/pandas/core/generic.py\u001b[0m in \u001b[0;36mwhere\u001b[0;34m(self, cond, other, inplace, axis, level, errors, try_cast, raise_on_error)\u001b[0m\n\u001b[1;32m   7770\u001b[0m         \u001b[0mother\u001b[0m \u001b[0;34m=\u001b[0m \u001b[0mcom\u001b[0m\u001b[0;34m.\u001b[0m\u001b[0m_apply_if_callable\u001b[0m\u001b[0;34m(\u001b[0m\u001b[0mother\u001b[0m\u001b[0;34m,\u001b[0m \u001b[0mself\u001b[0m\u001b[0;34m)\u001b[0m\u001b[0;34m\u001b[0m\u001b[0m\n\u001b[1;32m   7771\u001b[0m         return self._where(cond, other, inplace, axis, level,\n\u001b[0;32m-> 7772\u001b[0;31m                            errors=errors, try_cast=try_cast)\n\u001b[0m\u001b[1;32m   7773\u001b[0m \u001b[0;34m\u001b[0m\u001b[0m\n\u001b[1;32m   7774\u001b[0m     @Appender(_shared_docs['where'] % dict(_shared_doc_kwargs, cond=\"False\",\n",
      "\u001b[0;32m/home/hadoop/anaconda/lib/python3.5/site-packages/pandas/core/generic.py\u001b[0m in \u001b[0;36m_where\u001b[0;34m(self, cond, other, inplace, axis, level, errors, try_cast)\u001b[0m\n\u001b[1;32m   7513\u001b[0m             \u001b[0;32mif\u001b[0m \u001b[0;32mnot\u001b[0m \u001b[0mhasattr\u001b[0m\u001b[0;34m(\u001b[0m\u001b[0mcond\u001b[0m\u001b[0;34m,\u001b[0m \u001b[0;34m'shape'\u001b[0m\u001b[0;34m)\u001b[0m\u001b[0;34m:\u001b[0m\u001b[0;34m\u001b[0m\u001b[0m\n\u001b[1;32m   7514\u001b[0m                 \u001b[0mcond\u001b[0m \u001b[0;34m=\u001b[0m \u001b[0mnp\u001b[0m\u001b[0;34m.\u001b[0m\u001b[0masanyarray\u001b[0m\u001b[0;34m(\u001b[0m\u001b[0mcond\u001b[0m\u001b[0;34m)\u001b[0m\u001b[0;34m\u001b[0m\u001b[0m\n\u001b[0;32m-> 7515\u001b[0;31m             \u001b[0;32mif\u001b[0m \u001b[0mcond\u001b[0m\u001b[0;34m.\u001b[0m\u001b[0mshape\u001b[0m \u001b[0;34m!=\u001b[0m \u001b[0mself\u001b[0m\u001b[0;34m.\u001b[0m\u001b[0mshape\u001b[0m\u001b[0;34m:\u001b[0m\u001b[0;34m\u001b[0m\u001b[0m\n\u001b[0m\u001b[1;32m   7516\u001b[0m                 raise ValueError('Array conditional must be same shape as '\n\u001b[1;32m   7517\u001b[0m                                  'self')\n",
      "\u001b[0;32m/usr/lib/spark/python/lib/pyspark.zip/pyspark/sql/column.py\u001b[0m in \u001b[0;36m_\u001b[0;34m(self, other)\u001b[0m\n\u001b[1;32m    114\u001b[0m     \u001b[0;32mdef\u001b[0m \u001b[0m_\u001b[0m\u001b[0;34m(\u001b[0m\u001b[0mself\u001b[0m\u001b[0;34m,\u001b[0m \u001b[0mother\u001b[0m\u001b[0;34m)\u001b[0m\u001b[0;34m:\u001b[0m\u001b[0;34m\u001b[0m\u001b[0m\n\u001b[1;32m    115\u001b[0m         \u001b[0mjc\u001b[0m \u001b[0;34m=\u001b[0m \u001b[0mother\u001b[0m\u001b[0;34m.\u001b[0m\u001b[0m_jc\u001b[0m \u001b[0;32mif\u001b[0m \u001b[0misinstance\u001b[0m\u001b[0;34m(\u001b[0m\u001b[0mother\u001b[0m\u001b[0;34m,\u001b[0m \u001b[0mColumn\u001b[0m\u001b[0;34m)\u001b[0m \u001b[0;32melse\u001b[0m \u001b[0mother\u001b[0m\u001b[0;34m\u001b[0m\u001b[0m\n\u001b[0;32m--> 116\u001b[0;31m         \u001b[0mnjc\u001b[0m \u001b[0;34m=\u001b[0m \u001b[0mgetattr\u001b[0m\u001b[0;34m(\u001b[0m\u001b[0mself\u001b[0m\u001b[0;34m.\u001b[0m\u001b[0m_jc\u001b[0m\u001b[0;34m,\u001b[0m \u001b[0mname\u001b[0m\u001b[0;34m)\u001b[0m\u001b[0;34m(\u001b[0m\u001b[0mjc\u001b[0m\u001b[0;34m)\u001b[0m\u001b[0;34m\u001b[0m\u001b[0m\n\u001b[0m\u001b[1;32m    117\u001b[0m         \u001b[0;32mreturn\u001b[0m \u001b[0mColumn\u001b[0m\u001b[0;34m(\u001b[0m\u001b[0mnjc\u001b[0m\u001b[0;34m)\u001b[0m\u001b[0;34m\u001b[0m\u001b[0m\n\u001b[1;32m    118\u001b[0m     \u001b[0m_\u001b[0m\u001b[0;34m.\u001b[0m\u001b[0m__doc__\u001b[0m \u001b[0;34m=\u001b[0m \u001b[0mdoc\u001b[0m\u001b[0;34m\u001b[0m\u001b[0m\n",
      "\u001b[0;32m/usr/lib/spark/python/lib/py4j-0.10.7-src.zip/py4j/java_gateway.py\u001b[0m in \u001b[0;36m__call__\u001b[0;34m(self, *args)\u001b[0m\n\u001b[1;32m   1255\u001b[0m         \u001b[0manswer\u001b[0m \u001b[0;34m=\u001b[0m \u001b[0mself\u001b[0m\u001b[0;34m.\u001b[0m\u001b[0mgateway_client\u001b[0m\u001b[0;34m.\u001b[0m\u001b[0msend_command\u001b[0m\u001b[0;34m(\u001b[0m\u001b[0mcommand\u001b[0m\u001b[0;34m)\u001b[0m\u001b[0;34m\u001b[0m\u001b[0m\n\u001b[1;32m   1256\u001b[0m         return_value = get_return_value(\n\u001b[0;32m-> 1257\u001b[0;31m             answer, self.gateway_client, self.target_id, self.name)\n\u001b[0m\u001b[1;32m   1258\u001b[0m \u001b[0;34m\u001b[0m\u001b[0m\n\u001b[1;32m   1259\u001b[0m         \u001b[0;32mfor\u001b[0m \u001b[0mtemp_arg\u001b[0m \u001b[0;32min\u001b[0m \u001b[0mtemp_args\u001b[0m\u001b[0;34m:\u001b[0m\u001b[0;34m\u001b[0m\u001b[0m\n",
      "\u001b[0;32m/usr/lib/spark/python/lib/pyspark.zip/pyspark/sql/utils.py\u001b[0m in \u001b[0;36mdeco\u001b[0;34m(*a, **kw)\u001b[0m\n\u001b[1;32m     61\u001b[0m     \u001b[0;32mdef\u001b[0m \u001b[0mdeco\u001b[0m\u001b[0;34m(\u001b[0m\u001b[0;34m*\u001b[0m\u001b[0ma\u001b[0m\u001b[0;34m,\u001b[0m \u001b[0;34m**\u001b[0m\u001b[0mkw\u001b[0m\u001b[0;34m)\u001b[0m\u001b[0;34m:\u001b[0m\u001b[0;34m\u001b[0m\u001b[0m\n\u001b[1;32m     62\u001b[0m         \u001b[0;32mtry\u001b[0m\u001b[0;34m:\u001b[0m\u001b[0;34m\u001b[0m\u001b[0m\n\u001b[0;32m---> 63\u001b[0;31m             \u001b[0;32mreturn\u001b[0m \u001b[0mf\u001b[0m\u001b[0;34m(\u001b[0m\u001b[0;34m*\u001b[0m\u001b[0ma\u001b[0m\u001b[0;34m,\u001b[0m \u001b[0;34m**\u001b[0m\u001b[0mkw\u001b[0m\u001b[0;34m)\u001b[0m\u001b[0;34m\u001b[0m\u001b[0m\n\u001b[0m\u001b[1;32m     64\u001b[0m         \u001b[0;32mexcept\u001b[0m \u001b[0mpy4j\u001b[0m\u001b[0;34m.\u001b[0m\u001b[0mprotocol\u001b[0m\u001b[0;34m.\u001b[0m\u001b[0mPy4JJavaError\u001b[0m \u001b[0;32mas\u001b[0m \u001b[0me\u001b[0m\u001b[0;34m:\u001b[0m\u001b[0;34m\u001b[0m\u001b[0m\n\u001b[1;32m     65\u001b[0m             \u001b[0ms\u001b[0m \u001b[0;34m=\u001b[0m \u001b[0me\u001b[0m\u001b[0;34m.\u001b[0m\u001b[0mjava_exception\u001b[0m\u001b[0;34m.\u001b[0m\u001b[0mtoString\u001b[0m\u001b[0;34m(\u001b[0m\u001b[0;34m)\u001b[0m\u001b[0;34m\u001b[0m\u001b[0m\n",
      "\u001b[0;32m/usr/lib/spark/python/lib/py4j-0.10.7-src.zip/py4j/protocol.py\u001b[0m in \u001b[0;36mget_return_value\u001b[0;34m(answer, gateway_client, target_id, name)\u001b[0m\n\u001b[1;32m    326\u001b[0m                 raise Py4JJavaError(\n\u001b[1;32m    327\u001b[0m                     \u001b[0;34m\"An error occurred while calling {0}{1}{2}.\\n\"\u001b[0m\u001b[0;34m.\u001b[0m\u001b[0;34m\u001b[0m\u001b[0m\n\u001b[0;32m--> 328\u001b[0;31m                     format(target_id, \".\", name), value)\n\u001b[0m\u001b[1;32m    329\u001b[0m             \u001b[0;32melse\u001b[0m\u001b[0;34m:\u001b[0m\u001b[0;34m\u001b[0m\u001b[0m\n\u001b[1;32m    330\u001b[0m                 raise Py4JError(\n",
      "\u001b[0;31mPy4JJavaError\u001b[0m: An error occurred while calling o171.notEqual.\n: java.lang.RuntimeException: Unsupported literal type class java.util.ArrayList [10, 2]\n\tat org.apache.spark.sql.catalyst.expressions.Literal$.apply(literals.scala:77)\n\tat org.apache.spark.sql.catalyst.expressions.Literal$$anonfun$create$2.apply(literals.scala:163)\n\tat org.apache.spark.sql.catalyst.expressions.Literal$$anonfun$create$2.apply(literals.scala:163)\n\tat scala.util.Try.getOrElse(Try.scala:79)\n\tat org.apache.spark.sql.catalyst.expressions.Literal$.create(literals.scala:162)\n\tat org.apache.spark.sql.functions$.typedLit(functions.scala:113)\n\tat org.apache.spark.sql.functions$.lit(functions.scala:96)\n\tat org.apache.spark.sql.Column.notEqual(Column.scala:337)\n\tat sun.reflect.NativeMethodAccessorImpl.invoke0(Native Method)\n\tat sun.reflect.NativeMethodAccessorImpl.invoke(NativeMethodAccessorImpl.java:62)\n\tat sun.reflect.DelegatingMethodAccessorImpl.invoke(DelegatingMethodAccessorImpl.java:43)\n\tat java.lang.reflect.Method.invoke(Method.java:498)\n\tat py4j.reflection.MethodInvoker.invoke(MethodInvoker.java:244)\n\tat py4j.reflection.ReflectionEngine.invoke(ReflectionEngine.java:357)\n\tat py4j.Gateway.invoke(Gateway.java:282)\n\tat py4j.commands.AbstractCommand.invokeMethod(AbstractCommand.java:132)\n\tat py4j.commands.CallCommand.execute(CallCommand.java:79)\n\tat py4j.GatewayConnection.run(GatewayConnection.java:238)\n\tat java.lang.Thread.run(Thread.java:748)\n"
     ]
    }
   ],
   "source": [
    "df.where(F.col('ages').cast(IntegerType()) > 19).show()"
   ]
  },
  {
   "cell_type": "code",
   "execution_count": 21,
   "metadata": {
    "collapsed": true
   },
   "outputs": [],
   "source": [
    "from pyspark.sql.types import IntegerType"
   ]
  },
  {
   "cell_type": "code",
   "execution_count": 23,
   "metadata": {
    "collapsed": false
   },
   "outputs": [
    {
     "data": {
      "text/html": [
       "<div>\n",
       "<style scoped>\n",
       "    .dataframe tbody tr th:only-of-type {\n",
       "        vertical-align: middle;\n",
       "    }\n",
       "\n",
       "    .dataframe tbody tr th {\n",
       "        vertical-align: top;\n",
       "    }\n",
       "\n",
       "    .dataframe thead th {\n",
       "        text-align: right;\n",
       "    }\n",
       "</style>\n",
       "<table border=\"1\" class=\"dataframe\">\n",
       "  <thead>\n",
       "    <tr style=\"text-align: right;\">\n",
       "      <th></th>\n",
       "      <th>customer_id</th>\n",
       "      <th>renewal_nbr</th>\n",
       "      <th>term_in_years</th>\n",
       "    </tr>\n",
       "  </thead>\n",
       "  <tbody>\n",
       "    <tr>\n",
       "      <th>0</th>\n",
       "      <td>1093</td>\n",
       "      <td>8</td>\n",
       "      <td>1.0</td>\n",
       "    </tr>\n",
       "    <tr>\n",
       "      <th>1</th>\n",
       "      <td>1086</td>\n",
       "      <td>6</td>\n",
       "      <td>1.0</td>\n",
       "    </tr>\n",
       "    <tr>\n",
       "      <th>2</th>\n",
       "      <td>1080</td>\n",
       "      <td>5</td>\n",
       "      <td>1.0</td>\n",
       "    </tr>\n",
       "    <tr>\n",
       "      <th>3</th>\n",
       "      <td>1025</td>\n",
       "      <td>3</td>\n",
       "      <td>1.0</td>\n",
       "    </tr>\n",
       "    <tr>\n",
       "      <th>4</th>\n",
       "      <td>1041</td>\n",
       "      <td>7</td>\n",
       "      <td>0.5</td>\n",
       "    </tr>\n",
       "    <tr>\n",
       "      <th>5</th>\n",
       "      <td>1058</td>\n",
       "      <td>3</td>\n",
       "      <td>0.5</td>\n",
       "    </tr>\n",
       "    <tr>\n",
       "      <th>6</th>\n",
       "      <td>1089</td>\n",
       "      <td>3</td>\n",
       "      <td>0.5</td>\n",
       "    </tr>\n",
       "    <tr>\n",
       "      <th>7</th>\n",
       "      <td>1043</td>\n",
       "      <td>0</td>\n",
       "      <td>1.0</td>\n",
       "    </tr>\n",
       "    <tr>\n",
       "      <th>8</th>\n",
       "      <td>1071</td>\n",
       "      <td>2</td>\n",
       "      <td>1.0</td>\n",
       "    </tr>\n",
       "    <tr>\n",
       "      <th>9</th>\n",
       "      <td>1082</td>\n",
       "      <td>9</td>\n",
       "      <td>0.5</td>\n",
       "    </tr>\n",
       "  </tbody>\n",
       "</table>\n",
       "</div>"
      ],
      "text/plain": [
       "   customer_id  renewal_nbr  term_in_years\n",
       "0         1093            8            1.0\n",
       "1         1086            6            1.0\n",
       "2         1080            5            1.0\n",
       "3         1025            3            1.0\n",
       "4         1041            7            0.5\n",
       "5         1058            3            0.5\n",
       "6         1089            3            0.5\n",
       "7         1043            0            1.0\n",
       "8         1071            2            1.0\n",
       "9         1082            9            0.5"
      ]
     },
     "execution_count": 23,
     "metadata": {},
     "output_type": "execute_result"
    }
   ],
   "source": [
    "# Generate some fake data\n",
    "customer_id = np.random.randint(1000,1100, 10)\n",
    "renewal_nbr = np.random.randint(0,10,10)\n",
    "term_in_years = [{1:0.5,0:1}[key] for key in np.random.randint(0,2,10)]\n",
    "\n",
    "# Create a dict - not usually how you would do this\n",
    "rand_data = {'customer_id':customer_id, 'renewal_nbr':renewal_nbr, 'term_in_years':term_in_years}\n",
    "\n",
    "# Build the dataframe\n",
    "customers = pd.DataFrame.from_dict(rand_data)\n",
    "customers.head(10)"
   ]
  },
  {
   "cell_type": "code",
   "execution_count": null,
   "metadata": {
    "collapsed": true
   },
   "outputs": [],
   "source": [
    "customers['customer_tenure'] = customers['renewal_nbr'] * customers['term_in_years']\n",
    "customers.head(10)"
   ]
  },
  {
   "cell_type": "code",
   "execution_count": null,
   "metadata": {
    "collapsed": true
   },
   "outputs": [],
   "source": [
    "customers['ages'] = np.random.randint(16, 70, 10)\n",
    "\n",
    "def make_age_groups(age):\n",
    "    if 10 <= age and 20 > age:\n",
    "        return 'Teenager'\n",
    "    if 20 <= age and 35 > age:\n",
    "        return 'Young Adult'\n",
    "    if 35 <= age and 65 > age:\n",
    "        return 'Adult'\n",
    "    if 65 <= age:\n",
    "        return 'Senior'\n",
    "    \n",
    "customers['age_group'] = customers['ages'].apply(make_age_groups)\n",
    "customers.head(10)"
   ]
  },
  {
   "cell_type": "code",
   "execution_count": null,
   "metadata": {
    "collapsed": true
   },
   "outputs": [],
   "source": [
    "customers.groupby(['age_group', 'term_in_years'], as_index=False).mean().head()"
   ]
  },
  {
   "cell_type": "code",
   "execution_count": null,
   "metadata": {
    "collapsed": true
   },
   "outputs": [],
   "source": [
    "city_dict = {1:'Chicago',2:'San Fransisco',3:'New York', 4:'Boston', 5:'Houston'}\n",
    "\n",
    "ages = np.random.randint(18,65,100)\n",
    "city = [city_dict[num] for num in np.random.randint(1,6,100)]\n",
    "customer_id = np.arange(1000,1100)"
   ]
  },
  {
   "cell_type": "code",
   "execution_count": null,
   "metadata": {
    "collapsed": true
   },
   "outputs": [],
   "source": [
    "# Generate some other fake data\n",
    "customer_id = np.random.randint(1000,1200,100)\n",
    "customer_rating = np.random.randint(0,10,100)\n",
    "\n",
    "surveys = pd.DataFrame.from_dict({'customer_id':customer_id, 'customer_rating':customer_rating})\n",
    "surveys.sort_values('customer_id', ascending=True).head()"
   ]
  },
  {
   "cell_type": "code",
   "execution_count": null,
   "metadata": {
    "collapsed": true
   },
   "outputs": [],
   "source": [
    "demographic_ratings = cust_demographics.merge(surveys, on='customer_id', how='inner')\n",
    "demographic_ratings.head()"
   ]
  },
  {
   "cell_type": "code",
   "execution_count": null,
   "metadata": {
    "collapsed": true
   },
   "outputs": [],
   "source": []
  },
  {
   "cell_type": "markdown",
   "metadata": {},
   "source": [
    "# Putting it All Together"
   ]
  },
  {
   "cell_type": "markdown",
   "metadata": {},
   "source": [
    "Let's look at the distribution of scores"
   ]
  },
  {
   "cell_type": "code",
   "execution_count": 16,
   "metadata": {
    "collapsed": false
   },
   "outputs": [
    {
     "name": "stdout",
     "output_type": "stream",
     "text": [
      "+--------------+-----+\n",
      "|         Score|count|\n",
      "+--------------+-----+\n",
      "|       Hugs\"\"\"|    1|\n",
      "|             7|    7|\n",
      "|     friend\"\"\"|    1|\n",
      "|            11|    1|\n",
      "|             3| 8019|\n",
      "|             8|    1|\n",
      "| and Kitten\"\"\"|   26|\n",
      "|        Dad\"\"\"|    1|\n",
      "|            16|    1|\n",
      "|             0|  206|\n",
      "|            47|    5|\n",
      "|   Comp sci\"\"\"|    1|\n",
      "|          null|    2|\n",
      "|             5|62148|\n",
      "|            18|    1|\n",
      "|       blo...\"|    1|\n",
      "|     Medit...\"|    1|\n",
      "|            17|    1|\n",
      "|     Lyme ...\"|    1|\n",
      "|          ...\"|    7|\n",
      "+--------------+-----+\n",
      "only showing top 20 rows\n",
      "\n"
     ]
    }
   ],
   "source": [
    "data.groupBy('Score')\\\n",
    "    .count()\\\n",
    "    .show()"
   ]
  },
  {
   "cell_type": "code",
   "execution_count": 18,
   "metadata": {
    "collapsed": false
   },
   "outputs": [
    {
     "name": "stdout",
     "output_type": "stream",
     "text": [
      "+------------------+-----+\n",
      "|             Score|count|\n",
      "+------------------+-----+\n",
      "|                 5|62148|\n",
      "|                 4|14537|\n",
      "|                 1| 9392|\n",
      "|                 3| 8019|\n",
      "|                 2| 5582|\n",
      "|                 0|  206|\n",
      "|     and Kitten\"\"\"|   26|\n",
      "|   book-blogger\"\"\"|   13|\n",
      "|                 6|    9|\n",
      "|                 7|    7|\n",
      "|              ...\"|    7|\n",
      "|             RN\"\"\"|    6|\n",
      "|                10|    5|\n",
      "|                47|    5|\n",
      "|     Music Fan...\"|    3|\n",
      "| and book lover\"\"\"|    3|\n",
      "|                14|    3|\n",
      "|        swimme...\"|    2|\n",
      "|             a...\"|    2|\n",
      "|            mom\"\"\"|    2|\n",
      "+------------------+-----+\n",
      "only showing top 20 rows\n",
      "\n"
     ]
    }
   ],
   "source": [
    "data.groupBy('Score')\\\n",
    "    .count()\\\n",
    "    .sort(F.col('count').desc())\\\n",
    "    .show()"
   ]
  },
  {
   "cell_type": "code",
   "execution_count": 23,
   "metadata": {
    "collapsed": true
   },
   "outputs": [],
   "source": [
    "data = data.where(F.col('Score').isin(['0','1','2','3','4','5']))"
   ]
  },
  {
   "cell_type": "code",
   "execution_count": 24,
   "metadata": {
    "collapsed": false
   },
   "outputs": [
    {
     "name": "stdout",
     "output_type": "stream",
     "text": [
      "+-----+-----+\n",
      "|Score|count|\n",
      "+-----+-----+\n",
      "|    5|62148|\n",
      "|    4|14537|\n",
      "|    1| 9392|\n",
      "|    3| 8019|\n",
      "|    2| 5582|\n",
      "|    0|  206|\n",
      "+-----+-----+\n",
      "\n"
     ]
    }
   ],
   "source": [
    "data.groupBy('Score')\\\n",
    "    .count()\\\n",
    "    .sort(F.col('count').desc())\\\n",
    "    .show()"
   ]
  },
  {
   "cell_type": "code",
   "execution_count": 25,
   "metadata": {
    "collapsed": false
   },
   "outputs": [
    {
     "name": "stdout",
     "output_type": "stream",
     "text": [
      "== Physical Plan ==\n",
      "*(1) Filter Score#155 IN (0,1,2,3,4,5)\n",
      "+- *(1) FileScan parquet [Id#149,ProductId#150,UserId#151,ProfileName#152,HelpfulnessNumerator#153,HelpfulnessDenominator#154,Score#155,Time#156,Summary#157,Text#158] Batched: true, Format: Parquet, Location: InMemoryFileIndex[hdfs://ip-172-31-32-61.ec2.internal:8020/user/hadoop/data/subset_reviews_parquet], PartitionFilters: [], PushedFilters: [In(Score, [0,1,2,3,4,5])], ReadSchema: struct<Id:string,ProductId:string,UserId:string,ProfileName:string,HelpfulnessNumerator:string,He...\n"
     ]
    }
   ],
   "source": [
    "data.explain()"
   ]
  },
  {
   "cell_type": "code",
   "execution_count": 26,
   "metadata": {
    "collapsed": false
   },
   "outputs": [
    {
     "data": {
      "text/plain": [
       "99884"
      ]
     },
     "execution_count": 26,
     "metadata": {},
     "output_type": "execute_result"
    }
   ],
   "source": [
    "data.count()"
   ]
  },
  {
   "cell_type": "code",
   "execution_count": 27,
   "metadata": {
    "collapsed": true
   },
   "outputs": [],
   "source": [
    "# Pull the pieces of the data we want \n",
    "scores_rollup_pd = data.groupBy('Score').count().toPandas()"
   ]
  },
  {
   "cell_type": "code",
   "execution_count": 28,
   "metadata": {
    "collapsed": false
   },
   "outputs": [
    {
     "data": {
      "text/html": [
       "<div>\n",
       "<style scoped>\n",
       "    .dataframe tbody tr th:only-of-type {\n",
       "        vertical-align: middle;\n",
       "    }\n",
       "\n",
       "    .dataframe tbody tr th {\n",
       "        vertical-align: top;\n",
       "    }\n",
       "\n",
       "    .dataframe thead th {\n",
       "        text-align: right;\n",
       "    }\n",
       "</style>\n",
       "<table border=\"1\" class=\"dataframe\">\n",
       "  <thead>\n",
       "    <tr style=\"text-align: right;\">\n",
       "      <th></th>\n",
       "      <th>Score</th>\n",
       "      <th>count</th>\n",
       "    </tr>\n",
       "  </thead>\n",
       "  <tbody>\n",
       "    <tr>\n",
       "      <th>0</th>\n",
       "      <td>3</td>\n",
       "      <td>8019</td>\n",
       "    </tr>\n",
       "    <tr>\n",
       "      <th>1</th>\n",
       "      <td>0</td>\n",
       "      <td>206</td>\n",
       "    </tr>\n",
       "    <tr>\n",
       "      <th>2</th>\n",
       "      <td>5</td>\n",
       "      <td>62148</td>\n",
       "    </tr>\n",
       "    <tr>\n",
       "      <th>3</th>\n",
       "      <td>1</td>\n",
       "      <td>9392</td>\n",
       "    </tr>\n",
       "    <tr>\n",
       "      <th>4</th>\n",
       "      <td>4</td>\n",
       "      <td>14537</td>\n",
       "    </tr>\n",
       "  </tbody>\n",
       "</table>\n",
       "</div>"
      ],
      "text/plain": [
       "  Score  count\n",
       "0     3   8019\n",
       "1     0    206\n",
       "2     5  62148\n",
       "3     1   9392\n",
       "4     4  14537"
      ]
     },
     "execution_count": 28,
     "metadata": {},
     "output_type": "execute_result"
    }
   ],
   "source": [
    "scores_rollup_pd.head()"
   ]
  },
  {
   "cell_type": "code",
   "execution_count": 29,
   "metadata": {
    "collapsed": false
   },
   "outputs": [],
   "source": [
    "scores_rollup_pd = scores_rollup_pd.sort_values('Score')"
   ]
  },
  {
   "cell_type": "code",
   "execution_count": 36,
   "metadata": {
    "collapsed": false
   },
   "outputs": [
    {
     "data": {
      "image/png": "[encoded data removed]",
      "text/plain": [
       "<matplotlib.figure.Figure at 0x7ffa9576d0b8>"
      ]
     },
     "metadata": {},
     "output_type": "display_data"
    }
   ],
   "source": [
    "scores_rollup_pd.plot('Score', kind='bar')\n",
    "plt.show()"
   ]
  },
  {
   "cell_type": "code",
   "execution_count": 40,
   "metadata": {
    "collapsed": false
   },
   "outputs": [],
   "source": [
    "data = data.withColumn('h_ratio', F.col('HelpfulnessNumerator') / F.col('HelpfulnessDenominator'))"
   ]
  },
  {
   "cell_type": "code",
   "execution_count": 41,
   "metadata": {
    "collapsed": false
   },
   "outputs": [
    {
     "name": "stdout",
     "output_type": "stream",
     "text": [
      "+--------------------+----------------------+------------------+\n",
      "|HelpfulnessNumerator|HelpfulnessDenominator|           h_ratio|\n",
      "+--------------------+----------------------+------------------+\n",
      "|                   3|                     4|              0.75|\n",
      "|                   3|                     4|              0.75|\n",
      "|                   3|                     4|              0.75|\n",
      "|                   3|                     4|              0.75|\n",
      "|                   5|                     7|0.7142857142857143|\n",
      "|                   5|                     7|0.7142857142857143|\n",
      "|                   5|                     7|0.7142857142857143|\n",
      "|                   2|                     3|0.6666666666666666|\n",
      "|                   2|                     3|0.6666666666666666|\n",
      "|                   2|                     3|0.6666666666666666|\n",
      "|                   2|                     3|0.6666666666666666|\n",
      "|                   2|                     3|0.6666666666666666|\n",
      "|                   2|                     3|0.6666666666666666|\n",
      "|                   2|                     3|0.6666666666666666|\n",
      "|                   2|                     3|0.6666666666666666|\n",
      "|                   0|                     0|              null|\n",
      "|                   0|                     0|              null|\n",
      "|                   0|                     0|              null|\n",
      "|                   0|                     0|              null|\n",
      "|                   0|                     0|              null|\n",
      "+--------------------+----------------------+------------------+\n",
      "only showing top 20 rows\n",
      "\n"
     ]
    }
   ],
   "source": [
    "data.select('HelpfulnessNumerator', 'HelpfulnessDenominator', 'h_ratio').show()"
   ]
  },
  {
   "cell_type": "code",
   "execution_count": 42,
   "metadata": {
    "collapsed": true
   },
   "outputs": [],
   "source": [
    "h_ratios = data.select('h_ratio').toPandas()"
   ]
  },
  {
   "cell_type": "code",
   "execution_count": 46,
   "metadata": {
    "collapsed": false
   },
   "outputs": [
    {
     "data": {
      "image/png": "[encoded data removed]",
      "text/plain": [
       "<matplotlib.figure.Figure at 0x7ffa952d79e8>"
      ]
     },
     "metadata": {},
     "output_type": "display_data"
    }
   ],
   "source": [
    "h_ratios.hist('h_ratio', bins=100)\n",
    "plt.show()"
   ]
  },
  {
   "cell_type": "code",
   "execution_count": 48,
   "metadata": {
    "collapsed": false
   },
   "outputs": [
    {
     "name": "stdout",
     "output_type": "stream",
     "text": [
      "+--------------------+----------------------+-------+\n",
      "|HelpfulnessNumerator|HelpfulnessDenominator|h_ratio|\n",
      "+--------------------+----------------------+-------+\n",
      "|                   3|                     1|    3.0|\n",
      "|                   3|                     2|    1.5|\n",
      "|                   2|                     2|    1.0|\n",
      "|                   2|                     2|    1.0|\n",
      "|                  66|                    66|    1.0|\n",
      "|                   2|                     2|    1.0|\n",
      "|                  27|                    27|    1.0|\n",
      "|                   2|                     2|    1.0|\n",
      "|                   6|                     6|    1.0|\n",
      "|                  44|                    44|    1.0|\n",
      "|                   6|                     6|    1.0|\n",
      "|                   2|                     2|    1.0|\n",
      "|                   4|                     4|    1.0|\n",
      "|                   2|                     2|    1.0|\n",
      "|                   1|                     1|    1.0|\n",
      "|                   2|                     2|    1.0|\n",
      "|                   2|                     2|    1.0|\n",
      "|                   2|                     2|    1.0|\n",
      "|                   6|                     6|    1.0|\n",
      "|                   2|                     2|    1.0|\n",
      "+--------------------+----------------------+-------+\n",
      "only showing top 20 rows\n",
      "\n"
     ]
    }
   ],
   "source": [
    "data.sort(F.col('h_ratio').desc()).select('HelpfulnessNumerator', 'HelpfulnessDenominator', 'h_ratio').show()"
   ]
  },
  {
   "cell_type": "code",
   "execution_count": 38,
   "metadata": {
    "collapsed": false
   },
   "outputs": [
    {
     "name": "stdout",
     "output_type": "stream",
     "text": [
      "root\n",
      " |-- Id: string (nullable = true)\n",
      " |-- ProductId: string (nullable = true)\n",
      " |-- UserId: string (nullable = true)\n",
      " |-- ProfileName: string (nullable = true)\n",
      " |-- HelpfulnessNumerator: string (nullable = true)\n",
      " |-- HelpfulnessDenominator: string (nullable = true)\n",
      " |-- Score: string (nullable = true)\n",
      " |-- Time: string (nullable = true)\n",
      " |-- Summary: string (nullable = true)\n",
      " |-- Text: string (nullable = true)\n",
      "\n"
     ]
    }
   ],
   "source": [
    "data.printSchema()"
   ]
  },
  {
   "cell_type": "code",
   "execution_count": null,
   "metadata": {
    "collapsed": true
   },
   "outputs": [],
   "source": [
    "data.groupBy('Score').count()"
   ]
  },
  {
   "cell_type": "code",
   "execution_count": 10,
   "metadata": {
    "collapsed": false
   },
   "outputs": [
    {
     "data": {
      "text/html": [
       "<div>\n",
       "<style scoped>\n",
       "    .dataframe tbody tr th:only-of-type {\n",
       "        vertical-align: middle;\n",
       "    }\n",
       "\n",
       "    .dataframe tbody tr th {\n",
       "        vertical-align: top;\n",
       "    }\n",
       "\n",
       "    .dataframe thead th {\n",
       "        text-align: right;\n",
       "    }\n",
       "</style>\n",
       "<table border=\"1\" class=\"dataframe\">\n",
       "  <thead>\n",
       "    <tr style=\"text-align: right;\">\n",
       "      <th></th>\n",
       "      <th>Score</th>\n",
       "      <th>count</th>\n",
       "    </tr>\n",
       "  </thead>\n",
       "  <tbody>\n",
       "    <tr>\n",
       "      <th>0</th>\n",
       "      <td>Hugs\"\"\"</td>\n",
       "      <td>1</td>\n",
       "    </tr>\n",
       "    <tr>\n",
       "      <th>1</th>\n",
       "      <td>7</td>\n",
       "      <td>7</td>\n",
       "    </tr>\n",
       "    <tr>\n",
       "      <th>2</th>\n",
       "      <td>friend\"\"\"</td>\n",
       "      <td>1</td>\n",
       "    </tr>\n",
       "    <tr>\n",
       "      <th>3</th>\n",
       "      <td>11</td>\n",
       "      <td>1</td>\n",
       "    </tr>\n",
       "    <tr>\n",
       "      <th>4</th>\n",
       "      <td>3</td>\n",
       "      <td>8019</td>\n",
       "    </tr>\n",
       "  </tbody>\n",
       "</table>\n",
       "</div>"
      ],
      "text/plain": [
       "        Score  count\n",
       "0     Hugs\"\"\"      1\n",
       "1           7      7\n",
       "2   friend\"\"\"      1\n",
       "3          11      1\n",
       "4           3   8019"
      ]
     },
     "execution_count": 10,
     "metadata": {},
     "output_type": "execute_result"
    }
   ],
   "source": [
    "data_pd.head()"
   ]
  },
  {
   "cell_type": "markdown",
   "metadata": {},
   "source": [
    "Reviewer with the shortest time between reviews"
   ]
  },
  {
   "cell_type": "code",
   "execution_count": 58,
   "metadata": {
    "collapsed": false
   },
   "outputs": [
    {
     "name": "stdout",
     "output_type": "stream",
     "text": [
      "root\n",
      " |-- Id: string (nullable = true)\n",
      " |-- ProductId: string (nullable = true)\n",
      " |-- UserId: string (nullable = true)\n",
      " |-- ProfileName: string (nullable = true)\n",
      " |-- HelpfulnessNumerator: string (nullable = true)\n",
      " |-- HelpfulnessDenominator: string (nullable = true)\n",
      " |-- Score: string (nullable = true)\n",
      " |-- Time: string (nullable = true)\n",
      " |-- Summary: string (nullable = true)\n",
      " |-- Text: string (nullable = true)\n",
      " |-- h_ratio: double (nullable = true)\n",
      "\n"
     ]
    }
   ],
   "source": [
    "data.printSchema()"
   ]
  },
  {
   "cell_type": "code",
   "execution_count": 59,
   "metadata": {
    "collapsed": false
   },
   "outputs": [
    {
     "name": "stdout",
     "output_type": "stream",
     "text": [
      "+--------------+-----+\n",
      "|        UserId|count|\n",
      "+--------------+-----+\n",
      "| AY12DBB0U420B|   88|\n",
      "|A3OXHLG6DIBRW8|   79|\n",
      "|A1TMAVN4CEM8U8|   66|\n",
      "|A281NPSIMI1C2R|   64|\n",
      "|A1YUL9PCJR3JTY|   63|\n",
      "|A1Z54EM24Y40LL|   54|\n",
      "|A3PJZ8TU8FDQ1K|   50|\n",
      "|A31N6KB160O508|   38|\n",
      "|A3HPCRD9RX351S|   37|\n",
      "|A2SZLNSI5KOQJT|   36|\n",
      "|A3TVZM3ZIXG8YW|   35|\n",
      "|A2Y8IDC1FKGNJC|   33|\n",
      "|A1P2XYD265YE21|   33|\n",
      "| AKMEY1BSHSDG7|   32|\n",
      "|A1X1CEGHTHMBL1|   32|\n",
      "|A2MUGFV2TDQ47K|   32|\n",
      "| AY1EF0GOH80EK|   31|\n",
      "| AQQLWCMRNDFGI|   31|\n",
      "|A2OWR2PL3DLWS4|   31|\n",
      "|A2PNOU7NXB1JE4|   31|\n",
      "+--------------+-----+\n",
      "only showing top 20 rows\n",
      "\n"
     ]
    }
   ],
   "source": [
    "data.groupBy('UserId').count().sort(F.col('count').desc()).show()"
   ]
  },
  {
   "cell_type": "code",
   "execution_count": 61,
   "metadata": {
    "collapsed": false
   },
   "outputs": [
    {
     "data": {
      "text/plain": [
       "70359"
      ]
     },
     "execution_count": 61,
     "metadata": {},
     "output_type": "execute_result"
    }
   ],
   "source": [
    "data.select('UserId').dropDuplicates().count()"
   ]
  },
  {
   "cell_type": "code",
   "execution_count": 62,
   "metadata": {
    "collapsed": true
   },
   "outputs": [],
   "source": [
    "min_reviews = 10\n",
    "more_than_10 = data.groupBy('UserId')\\\n",
    "                   .count()\\\n",
    "                   .where(F.col('count') > min_reviews)\\\n",
    "                   .select('UserId')"
   ]
  },
  {
   "cell_type": "code",
   "execution_count": 63,
   "metadata": {
    "collapsed": true
   },
   "outputs": [],
   "source": [
    "more_than_10 = more_than_10.cache()"
   ]
  },
  {
   "cell_type": "code",
   "execution_count": 64,
   "metadata": {
    "collapsed": false
   },
   "outputs": [
    {
     "data": {
      "text/plain": [
       "248"
      ]
     },
     "execution_count": 64,
     "metadata": {},
     "output_type": "execute_result"
    }
   ],
   "source": [
    "more_than_10.count()"
   ]
  },
  {
   "cell_type": "code",
   "execution_count": 65,
   "metadata": {
    "collapsed": true
   },
   "outputs": [],
   "source": [
    "reviews_more_than_10 = data.join(more_than_10, on='UserId')"
   ]
  },
  {
   "cell_type": "code",
   "execution_count": 66,
   "metadata": {
    "collapsed": true
   },
   "outputs": [],
   "source": [
    "reviews_more_than_10 = reviews_more_than_10.cache()"
   ]
  },
  {
   "cell_type": "code",
   "execution_count": 67,
   "metadata": {
    "collapsed": true
   },
   "outputs": [],
   "source": [
    "more_than_10 = more_than_10.unpersist()"
   ]
  },
  {
   "cell_type": "code",
   "execution_count": 68,
   "metadata": {
    "collapsed": false
   },
   "outputs": [
    {
     "name": "stdout",
     "output_type": "stream",
     "text": [
      "+--------------+-----+----------+--------------------+--------------------+----------------------+-----+----------+--------------------+--------------------+------------------+\n",
      "|        UserId|   Id| ProductId|         ProfileName|HelpfulnessNumerator|HelpfulnessDenominator|Score|      Time|             Summary|                Text|           h_ratio|\n",
      "+--------------+-----+----------+--------------------+--------------------+----------------------+-----+----------+--------------------+--------------------+------------------+\n",
      "| ADS5APY1NKTL4|78727|B00472I5A4|  \"D. Pawl \"\"Dani\"\"\"|                   5|                     7|    5|1175040000|these potato chip...|I try to be good,...|0.7142857142857143|\n",
      "|A3M174IC0VXOS2|78730|B00472I5A4|          Gail Cooke|                   2|                     3|    5|1245024000|CRISPY, CRUNCHY, ...|We've long enjoye...|0.6666666666666666|\n",
      "|A2OL5WLCNZVD9K|78738|B00472I5A4|           nonpareil|                   0|                     0|    3|1347408000|Things you need t...|\"Yes, they are go...|              null|\n",
      "|A36MP37DITBU6F|78760|B0031UBVX6|\"Enchanted  In  D...|                   1|                     1|    5|1296691200|Awesomely delicio...|Awesomely delicio...|               1.0|\n",
      "|A21B8AV7E3MPXE|78804|B0031UBVX6|  Natalie V. Galasso|                   1|                     2|    4|1304467200|        Adult w/GERD|\"I am a twenty-si...|               0.5|\n",
      "|A21B8AV7E3MPXE|78810|B0031UBVX6|  Natalie V. Galasso|                   2|                     5|    4|1304467200|         I have GERD|I am a twenty-six...|               0.4|\n",
      "|A1GYEGLX3P2Y7P|78823|B001E5DZSO|      Shala Kerrigan|                   2|                     2|    5|1287446400|      Amazing flavor|This is one of my...|               1.0|\n",
      "|A281NPSIMI1C2R|78827|B001E5DZSO|\"Rebecca of Amazo...|                   1|                     1|    5|1183593600|From Cane Grown i...|\"I first found th...|               1.0|\n",
      "| AYGJ96W5KQMUJ|78840|B0013JJZWG|                 SJP|                   3|                     4|    4|1333324800|A good buy, essen...|This is a good bu...|              0.75|\n",
      "|A3F3B1JPACN215|78857|B000FAPLZ4|   Michael G. Lustig|                   1|                     1|    5|1186358400|          Perfection|I love these righ...|               1.0|\n",
      "|A3CG93783LP0FO|78872|B000HK9IKG|               Yarii|                  18|                    18|    3|1272240000|It's hard to stri...|I've read a lot r...|               1.0|\n",
      "| AEC90GPFKLAAW|78898|B000HK9IKG|         Lisa Kearns|                   0|                     0|    4|1335484800|Chocolate flavor,...|\"I only recently ...|              null|\n",
      "| AIQDUKFB4X38M|78916|B001DTKJH6|          VonMalcolm|                   0|                     1|    2|1320710400|WARNING: You are ...|I haven't tried t...|               0.0|\n",
      "|A3BH49ZKESHDID|79064|B001EPPIT8|       Fred Camfield|                   4|                     5|    5|1266192000|     A gourmet snack|Back when salmon ...|               0.8|\n",
      "|A2MUGFV2TDQ47K|79093|B0047477HY|\"Lynrie \"\"Oh HELL...|                   1|                     1|    5|1323734400|        I'm Spoiled!|Caf&eacute; con L...|               1.0|\n",
      "|A1YUL9PCJR3JTY|79102|B002YQ6BPQ|\"O. Brown \"\"Ms. O...|                   3|                     3|    5|1330646400|Tart, Crispy, Hea...|*****<br />These ...|               1.0|\n",
      "|A2MUGFV2TDQ47K|79161|B0047228IE|\"Lynrie \"\"Oh HELL...|                   0|                     0|    4|1343952000|Both Chunky & Smo...|Each can I've ope...|              null|\n",
      "|A22CW0ZHY3NJH8|79176|B00437EB92|              Noname|                   2|                     2|    5|1285027200|          Mmmm good.|This tasty snack ...|               1.0|\n",
      "|A1T1YSCDW0PD25|79277|B003TNANSO|          A. Wiersch|                   5|                     7|    4|1265155200|Quite tasty but e...|\"I am impressed w...|0.7142857142857143|\n",
      "| AQLL2R1PPR46X|79426|B003TNANSO|       grumpyrainbow|                   0|                     0|    5|1304985600|Pomegranate Blueb...|Delicious bar! I ...|              null|\n",
      "+--------------+-----+----------+--------------------+--------------------+----------------------+-----+----------+--------------------+--------------------+------------------+\n",
      "only showing top 20 rows\n",
      "\n"
     ]
    }
   ],
   "source": [
    "reviews_more_than_10.show()"
   ]
  },
  {
   "cell_type": "code",
   "execution_count": 69,
   "metadata": {
    "collapsed": false
   },
   "outputs": [
    {
     "data": {
      "text/plain": [
       "4413"
      ]
     },
     "execution_count": 69,
     "metadata": {},
     "output_type": "execute_result"
    }
   ],
   "source": [
    "reviews_more_than_10.count()"
   ]
  },
  {
   "cell_type": "code",
   "execution_count": 70,
   "metadata": {
    "collapsed": false
   },
   "outputs": [
    {
     "name": "stdout",
     "output_type": "stream",
     "text": [
      "+----------+\n",
      "|      Time|\n",
      "+----------+\n",
      "|1175040000|\n",
      "|1245024000|\n",
      "|1347408000|\n",
      "|1296691200|\n",
      "|1304467200|\n",
      "|1304467200|\n",
      "|1287446400|\n",
      "|1183593600|\n",
      "|1333324800|\n",
      "|1186358400|\n",
      "|1272240000|\n",
      "|1335484800|\n",
      "|1320710400|\n",
      "|1266192000|\n",
      "|1323734400|\n",
      "|1330646400|\n",
      "|1343952000|\n",
      "|1285027200|\n",
      "|1265155200|\n",
      "|1304985600|\n",
      "+----------+\n",
      "only showing top 20 rows\n",
      "\n"
     ]
    }
   ],
   "source": [
    "reviews_more_than_10.select('Time').show()"
   ]
  },
  {
   "cell_type": "code",
   "execution_count": 71,
   "metadata": {
    "collapsed": false
   },
   "outputs": [
    {
     "name": "stdout",
     "output_type": "stream",
     "text": [
      "+----------------------------------------+\n",
      "|from_unixtime(Time, yyyy-MM-dd HH:mm:ss)|\n",
      "+----------------------------------------+\n",
      "|                     2007-03-28 00:00:00|\n",
      "|                     2009-06-15 00:00:00|\n",
      "|                     2012-09-12 00:00:00|\n",
      "|                     2011-02-03 00:00:00|\n",
      "|                     2011-05-04 00:00:00|\n",
      "|                     2011-05-04 00:00:00|\n",
      "|                     2010-10-19 00:00:00|\n",
      "|                     2007-07-05 00:00:00|\n",
      "|                     2012-04-02 00:00:00|\n",
      "|                     2007-08-06 00:00:00|\n",
      "|                     2010-04-26 00:00:00|\n",
      "|                     2012-04-27 00:00:00|\n",
      "|                     2011-11-08 00:00:00|\n",
      "|                     2010-02-15 00:00:00|\n",
      "|                     2011-12-13 00:00:00|\n",
      "|                     2012-03-02 00:00:00|\n",
      "|                     2012-08-03 00:00:00|\n",
      "|                     2010-09-21 00:00:00|\n",
      "|                     2010-02-03 00:00:00|\n",
      "|                     2011-05-10 00:00:00|\n",
      "+----------------------------------------+\n",
      "only showing top 20 rows\n",
      "\n"
     ]
    }
   ],
   "source": [
    "reviews_more_than_10.select(F.from_unixtime('Time')).show()"
   ]
  },
  {
   "cell_type": "code",
   "execution_count": 76,
   "metadata": {
    "collapsed": false
   },
   "outputs": [],
   "source": [
    "from pyspark.sql.window import Window\n",
    "W = Window.partitionBy('UserId').orderBy('Time')\n",
    "reviews_more_than_10 = reviews_more_than_10.withColumn('date_lag', F.lag('Time').over(W))"
   ]
  },
  {
   "cell_type": "code",
   "execution_count": 77,
   "metadata": {
    "collapsed": false
   },
   "outputs": [
    {
     "name": "stdout",
     "output_type": "stream",
     "text": [
      "+--------------+----------+----------+\n",
      "|        UserId|      Time|  date_lag|\n",
      "+--------------+----------+----------+\n",
      "|A1I34N9LFOSCX7|1187481600|      null|\n",
      "|A1I34N9LFOSCX7|1193184000|1187481600|\n",
      "|A1I34N9LFOSCX7|1194393600|1193184000|\n",
      "|A1I34N9LFOSCX7|1196812800|1194393600|\n",
      "|A1I34N9LFOSCX7|1201219200|1196812800|\n",
      "|A1I34N9LFOSCX7|1227398400|1201219200|\n",
      "|A1I34N9LFOSCX7|1227398400|1227398400|\n",
      "|A1I34N9LFOSCX7|1227398400|1227398400|\n",
      "|A1I34N9LFOSCX7|1349136000|1227398400|\n",
      "|A1I34N9LFOSCX7|1349136000|1349136000|\n",
      "|A1I34N9LFOSCX7|1349136000|1349136000|\n",
      "| ANEDXRFDZDL18|1173744000|      null|\n",
      "| ANEDXRFDZDL18|1184544000|1173744000|\n",
      "| ANEDXRFDZDL18|1235520000|1184544000|\n",
      "| ANEDXRFDZDL18|1266624000|1235520000|\n",
      "| ANEDXRFDZDL18|1298419200|1266624000|\n",
      "| ANEDXRFDZDL18|1312416000|1298419200|\n",
      "| ANEDXRFDZDL18|1312502400|1312416000|\n",
      "| ANEDXRFDZDL18|1316908800|1312502400|\n",
      "| ANEDXRFDZDL18|1317772800|1316908800|\n",
      "+--------------+----------+----------+\n",
      "only showing top 20 rows\n",
      "\n"
     ]
    }
   ],
   "source": [
    "reviews_more_than_10.select('UserId', 'Time', 'date_lag').show()"
   ]
  },
  {
   "cell_type": "code",
   "execution_count": 81,
   "metadata": {
    "collapsed": false
   },
   "outputs": [],
   "source": [
    "reviews_more_than_10 = reviews_more_than_10.withColumn('datediff', F.datediff(F.from_unixtime(F.col('Time')), \n",
    "                                                                              F.from_unixtime(F.col('date_lag'))))"
   ]
  },
  {
   "cell_type": "code",
   "execution_count": 82,
   "metadata": {
    "collapsed": false
   },
   "outputs": [
    {
     "name": "stdout",
     "output_type": "stream",
     "text": [
      "+--------+\n",
      "|datediff|\n",
      "+--------+\n",
      "|    null|\n",
      "|      66|\n",
      "|      14|\n",
      "|      28|\n",
      "|      51|\n",
      "|     303|\n",
      "|       0|\n",
      "|       0|\n",
      "|    1409|\n",
      "|       0|\n",
      "|       0|\n",
      "|    null|\n",
      "|     125|\n",
      "|     590|\n",
      "|     360|\n",
      "|     368|\n",
      "|     162|\n",
      "|       1|\n",
      "|      51|\n",
      "|      10|\n",
      "+--------+\n",
      "only showing top 20 rows\n",
      "\n"
     ]
    }
   ],
   "source": [
    "reviews_more_than_10.select('datediff').show()"
   ]
  },
  {
   "cell_type": "code",
   "execution_count": 84,
   "metadata": {
    "collapsed": false
   },
   "outputs": [
    {
     "data": {
      "text/plain": [
       "DataFrame[UserId: string, datediff: double]"
      ]
     },
     "execution_count": 84,
     "metadata": {},
     "output_type": "execute_result"
    }
   ],
   "source": [
    "from pyspark.sql.types import DoubleType\n"
   ]
  },
  {
   "cell_type": "code",
   "execution_count": 85,
   "metadata": {
    "collapsed": true
   },
   "outputs": [],
   "source": [
    "averages = reviews_more_than_10.select('UserId', F.col('datediff').cast(DoubleType())).groupBy('UserId').agg(F.mean('datediff'))"
   ]
  },
  {
   "cell_type": "code",
   "execution_count": 86,
   "metadata": {
    "collapsed": false
   },
   "outputs": [
    {
     "name": "stdout",
     "output_type": "stream",
     "text": [
      "+--------------+------------------+\n",
      "|        UserId|     avg(datediff)|\n",
      "+--------------+------------------+\n",
      "|A1I34N9LFOSCX7|             187.1|\n",
      "| ANEDXRFDZDL18|             188.9|\n",
      "|A2UCZAWAN5QMJQ|              55.3|\n",
      "| AQLL2R1PPR46X| 79.04166666666667|\n",
      "|A1GQAKL9CGQLP1|           19.9375|\n",
      "|A3T0OTH5072YRE| 47.53846153846154|\n",
      "|A22CW0ZHY3NJH8| 62.31578947368421|\n",
      "|A2D1LPEUCTNT8X|31.181818181818183|\n",
      "|A1IH42TUIZ2XJL|110.28571428571429|\n",
      "|A22Z9R91N8L7IQ|21.181818181818183|\n",
      "|A19XMHRB3G4DIR|             128.5|\n",
      "|A3RR2P5IS3DGPR| 73.76470588235294|\n",
      "| AJLW1DZSHOVGW| 96.16666666666667|\n",
      "| AY12DBB0U420B| 16.42528735632184|\n",
      "| AVFA1JB08RG8G| 93.84615384615384|\n",
      "| ALDAF4VVLFRHP|              12.0|\n",
      "|A1IRN1M05TPOVT| 35.45454545454545|\n",
      "|A2YKWYC3WQJX5J|             111.6|\n",
      "|A106ZCP7RSXMRU|             103.2|\n",
      "| AW41Q5K4R499D|               0.0|\n",
      "+--------------+------------------+\n",
      "only showing top 20 rows\n",
      "\n"
     ]
    }
   ],
   "source": [
    "averages.show()"
   ]
  },
  {
   "cell_type": "code",
   "execution_count": 87,
   "metadata": {
    "collapsed": false
   },
   "outputs": [
    {
     "name": "stdout",
     "output_type": "stream",
     "text": [
      "+--------------+-------------------+\n",
      "|        UserId|      avg(datediff)|\n",
      "+--------------+-------------------+\n",
      "|A3TVZM3ZIXG8YW|                0.0|\n",
      "|A1N5FSCYN4796F|                0.0|\n",
      "| ATIHDHZYNQ0EI|                0.0|\n",
      "|A26NFIQ7KWI8Y7|                0.0|\n",
      "|A2XNOB1T796Y6B|                0.0|\n",
      "| AW41Q5K4R499D|                0.0|\n",
      "| ABDCYK04CL6O4|                0.0|\n",
      "|A1AEPMPA12GUJ7|                0.0|\n",
      "|A1M5D0DG09UGVM| 0.2727272727272727|\n",
      "|A2N2X7L7LB3S6X|0.36363636363636365|\n",
      "|A36Y4XHEHNGZ7B|                0.5|\n",
      "|A2PF32UUERJXB8|                0.8|\n",
      "|A2GEZJHBV92EVR|               1.48|\n",
      "|A3RMGIKUWGPZOK|  4.315789473684211|\n",
      "|A29P51TN9KKMU9| 5.2727272727272725|\n",
      "|A38KP1POQ191WT|                5.7|\n",
      "|A1HOXKR7OKJ1X1|                6.4|\n",
      "|A33AQPJYH7UUXR|  7.545454545454546|\n",
      "|A1X1CEGHTHMBL1|   8.03225806451613|\n",
      "|A2TJG4N8LNJW23|  9.066666666666666|\n",
      "+--------------+-------------------+\n",
      "only showing top 20 rows\n",
      "\n"
     ]
    }
   ],
   "source": [
    "averages.sort(F.col('avg(datediff)')).show()"
   ]
  },
  {
   "cell_type": "code",
   "execution_count": 93,
   "metadata": {
    "collapsed": false
   },
   "outputs": [
    {
     "name": "stdout",
     "output_type": "stream",
     "text": [
      "+--------------+----------------------------------------+--------------------+\n",
      "|        UserId|from_unixtime(Time, yyyy-MM-dd HH:mm:ss)|                Text|\n",
      "+--------------+----------------------------------------+--------------------+\n",
      "|A1M5D0DG09UGVM|                     2007-07-27 00:00:00|I haven't had any...|\n",
      "|A1M5D0DG09UGVM|                     2007-07-27 00:00:00|I was very excite...|\n",
      "|A1M5D0DG09UGVM|                     2007-07-27 00:00:00|I haven't had any...|\n",
      "|A1M5D0DG09UGVM|                     2007-07-27 00:00:00|I haven't had any...|\n",
      "|A1M5D0DG09UGVM|                     2007-07-27 00:00:00|I haven't had any...|\n",
      "|A1M5D0DG09UGVM|                     2007-07-27 00:00:00|These are in the ...|\n",
      "|A1M5D0DG09UGVM|                     2007-07-28 00:00:00|This is darker an...|\n",
      "|A1M5D0DG09UGVM|                     2007-07-28 00:00:00|Every can was den...|\n",
      "|A1M5D0DG09UGVM|                     2007-07-28 00:00:00|I noticed no enha...|\n",
      "|A1M5D0DG09UGVM|                     2007-07-28 00:00:00|This is darker an...|\n",
      "|A1M5D0DG09UGVM|                     2007-07-28 00:00:00|I keep this oil i...|\n",
      "|A1M5D0DG09UGVM|                     2007-07-30 00:00:00|Other brands cont...|\n",
      "+--------------+----------------------------------------+--------------------+\n",
      "\n"
     ]
    }
   ],
   "source": [
    "data.where(F.col('UserId') == 'A1M5D0DG09UGVM').sort(F.col('Time')).select('UserId', F.from_unixtime('Time'), 'Text').show(100)"
   ]
  },
  {
   "cell_type": "code",
   "execution_count": null,
   "metadata": {
    "collapsed": true
   },
   "outputs": [],
   "source": []
  }
 ],
 "metadata": {
  "anaconda-cloud": {},
  "kernelspec": {
   "display_name": "Python [default]",
   "language": "python",
   "name": "python3"
  },
  "language_info": {
   "codemirror_mode": {
    "name": "ipython",
    "version": 3
   },
   "file_extension": ".py",
   "mimetype": "text/x-python",
   "name": "python",
   "nbconvert_exporter": "python",
   "pygments_lexer": "ipython3",
   "version": "3.5.6"
  }
 },
 "nbformat": 4,
 "nbformat_minor": 1
}
